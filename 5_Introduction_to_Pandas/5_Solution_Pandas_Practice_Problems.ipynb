{
 "cells": [
  {
   "cell_type": "code",
   "execution_count": null,
   "id": "4c1c9d51-bdd8-403f-bada-e023f06148de",
   "metadata": {},
   "outputs": [],
   "source": [
    "import pandas as pd"
   ]
  },
  {
   "cell_type": "code",
   "execution_count": null,
   "id": "0fb6e21a",
   "metadata": {},
   "outputs": [],
   "source": [
    "# 1.1 Creating a Series for Product Prices\n",
    "prices = pd.Series([250, 500, 750, 1000, 1250])\n",
    "display(prices)"
   ]
  },
  {
   "cell_type": "code",
   "execution_count": null,
   "id": "64bd2677",
   "metadata": {},
   "outputs": [],
   "source": [
    "# 1.2 Assign product names as the index\n",
    "prices.index = ['Product A', 'Product B', 'Product C', 'Product D', 'Product E']\n",
    "display(prices)"
   ]
  },
  {
   "cell_type": "code",
   "execution_count": null,
   "id": "c7be5f4f",
   "metadata": {},
   "outputs": [],
   "source": [
    "# 1.3 Access the price of Product C\n",
    "prices['Product C']"
   ]
  },
  {
   "cell_type": "code",
   "execution_count": null,
   "id": "fc645bad",
   "metadata": {},
   "outputs": [],
   "source": [
    "# 2.1 Sort the Series by product names (index) in alphabetical order\n",
    "prices.sort_index()"
   ]
  },
  {
   "cell_type": "code",
   "execution_count": null,
   "id": "2b444ce6",
   "metadata": {},
   "outputs": [],
   "source": [
    "# 2.2 Sort the Series by product prices in descending order\n",
    "prices.sort_values(ascending=False)"
   ]
  },
  {
   "cell_type": "code",
   "execution_count": null,
   "id": "85162678",
   "metadata": {},
   "outputs": [],
   "source": [
    "# 2.3 Use describe() to get a quick statistical summary of the product prices\n",
    "prices.describe()"
   ]
  },
  {
   "cell_type": "code",
   "execution_count": null,
   "id": "c57b195e",
   "metadata": {},
   "outputs": [],
   "source": [
    "# 3.1 Create a Series with a list of items in stock\n",
    "items = pd.Series(['Laptop', 1200, 'Tablet', 800, 'Monitor', 300])\n",
    "items"
   ]
  },
  {
   "cell_type": "code",
   "execution_count": null,
   "id": "8a2acefe",
   "metadata": {},
   "outputs": [],
   "source": [
    "# 4.1 Create a DataFrame for customer orders\n",
    "data = {'Customer': ['Alice', 'Bob', 'Charlie'], 'Order Amount': [200, 450, 300], 'Location': ['NY', 'LA', 'Chicago']}\n",
    "orders = pd.DataFrame(data)\n",
    "display(orders)"
   ]
  },
  {
   "cell_type": "code",
   "execution_count": null,
   "id": "298bd1f4",
   "metadata": {},
   "outputs": [],
   "source": [
    "# 4.2 Display the DataFrame\n",
    "display(orders)"
   ]
  },
  {
   "cell_type": "code",
   "execution_count": null,
   "id": "8b98043b",
   "metadata": {},
   "outputs": [],
   "source": [
    "# 5.1 Reset the index of the DataFrame\n",
    "orders_reset = orders.reset_index(drop=True)\n",
    "display(orders_reset)"
   ]
  },
  {
   "cell_type": "code",
   "execution_count": null,
   "id": "555dcca7",
   "metadata": {},
   "outputs": [],
   "source": [
    "# 5.2 Set the Customer column as the index of the DataFrame\n",
    "orders_indexed = orders.set_index('Customer')\n",
    "display(orders_indexed)"
   ]
  },
  {
   "cell_type": "code",
   "execution_count": null,
   "id": "ce4e994f",
   "metadata": {},
   "outputs": [],
   "source": [
    "# 5.3 Reset the index back to the default\n",
    "orders_reset_again = orders_indexed.reset_index()\n",
    "display(orders_reset_again)"
   ]
  },
  {
   "cell_type": "code",
   "execution_count": null,
   "id": "682d9433",
   "metadata": {},
   "outputs": [],
   "source": [
    "# 6.1 Sort the DataFrame by the Order Amount in ascending order\n",
    "orders.sort_values(by='Order Amount')"
   ]
  },
  {
   "cell_type": "code",
   "execution_count": null,
   "id": "5dffd50d",
   "metadata": {},
   "outputs": [],
   "source": [
    "# 6.2 Sort the DataFrame by the Location column in alphabetical order\n",
    "orders.sort_values(by='Location')"
   ]
  },
  {
   "cell_type": "code",
   "execution_count": null,
   "id": "6bca0cd3",
   "metadata": {},
   "outputs": [],
   "source": [
    "# 6.3 Use describe() to obtain a summary of the Order Amounts\n",
    "orders['Order Amount'].describe()"
   ]
  },
  {
   "cell_type": "code",
   "execution_count": null,
   "id": "e6ad1db5",
   "metadata": {},
   "outputs": [],
   "source": [
    "# 7.1 Filter orders with amount greater than 300\n",
    "high_value_orders = orders[orders['Order Amount'] > 300]\n",
    "high_value_orders"
   ]
  },
  {
   "cell_type": "code",
   "execution_count": null,
   "id": "edd5f55e",
   "metadata": {},
   "outputs": [],
   "source": [
    "# 7.2 Filter orders placed by customers in NY\n",
    "ny_orders = orders[orders['Location'] == 'NY']\n",
    "ny_orders"
   ]
  },
  {
   "cell_type": "code",
   "execution_count": null,
   "id": "68ec05c1-b9a7-47eb-bbaf-21da300f3291",
   "metadata": {},
   "outputs": [],
   "source": []
  }
 ],
 "metadata": {
  "kernelspec": {
   "display_name": "Python 3 (ipykernel)",
   "language": "python",
   "name": "python3"
  },
  "language_info": {
   "codemirror_mode": {
    "name": "ipython",
    "version": 3
   },
   "file_extension": ".py",
   "mimetype": "text/x-python",
   "name": "python",
   "nbconvert_exporter": "python",
   "pygments_lexer": "ipython3",
   "version": "3.12.4"
  }
 },
 "nbformat": 4,
 "nbformat_minor": 5
}
