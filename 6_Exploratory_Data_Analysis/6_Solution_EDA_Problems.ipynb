{
 "cells": [
  {
   "cell_type": "code",
   "execution_count": null,
   "id": "cb255ca2",
   "metadata": {},
   "outputs": [],
   "source": [
    "# Q1\n",
    "# Read the CSV file into a DataFrame.\n",
    "# after downloading it on your computer, run this\n",
    "df = pd.read_csv('6_Purcahse_Records_Dataset.csv')\n",
    "display(df.head())"
   ]
  },
  {
   "cell_type": "code",
   "execution_count": null,
   "id": "744e01fc-e774-4ac8-966f-88850af363bf",
   "metadata": {},
   "outputs": [],
   "source": [
    "import pandas as pd\n",
    "df = pd.read_csv('6_Purcahse_Records_Dataset.csv')"
   ]
  },
  {
   "cell_type": "code",
   "execution_count": null,
   "id": "cfa5fd31",
   "metadata": {},
   "outputs": [],
   "source": [
    "# Q2\n",
    "# What are the data types and the count of non-null values in each column?\n",
    "df.info()"
   ]
  },
  {
   "cell_type": "code",
   "execution_count": null,
   "id": "cb5ca639",
   "metadata": {},
   "outputs": [],
   "source": [
    "# Q3\n",
    "# What are the summary statistics for the numerical columns in the dataset?\n",
    "display(df.describe())"
   ]
  },
  {
   "cell_type": "code",
   "execution_count": null,
   "id": "b1203d25",
   "metadata": {},
   "outputs": [],
   "source": [
    "# Q4\n",
    "# Which columns have missing values, and how many missing values does each column have?\n",
    "display(df.isnull().sum())"
   ]
  },
  {
   "cell_type": "code",
   "execution_count": null,
   "id": "73d535fe",
   "metadata": {},
   "outputs": [],
   "source": [
    "# Q5\n",
    "# What is the total number of missing values in the dataset?\n",
    "total_missing = df.isnull().sum().sum()\n",
    "print(f'Total missing values: {total_missing}')"
   ]
  },
  {
   "cell_type": "code",
   "execution_count": null,
   "id": "16be6309",
   "metadata": {},
   "outputs": [],
   "source": [
    "# Q6\n",
    "# Select and display only the numerical columns in the dataset.\n",
    "numerical_columns = df.select_dtypes(include=['number'])\n",
    "display(numerical_columns.head())"
   ]
  },
  {
   "cell_type": "code",
   "execution_count": null,
   "id": "c2afea3d",
   "metadata": {},
   "outputs": [],
   "source": [
    "# Q7\n",
    "# Convert the Age column to an integer data type and verify the conversion.\n",
    "# need to fill missing values with 0 to avoid error due to missing values\n",
    "df['Age'] = df['Age'].fillna(0).astype(int)\n",
    "display(df['Age'].head())"
   ]
  },
  {
   "cell_type": "code",
   "execution_count": null,
   "id": "9886b549",
   "metadata": {},
   "outputs": [],
   "source": [
    "# Q8\n",
    "# What are the unique regions and product categories in the dataset?\n",
    "unique_regions = df['Region'].unique()\n",
    "unique_categories = df['Product_Category'].unique()\n",
    "print(f'Unique Regions: {unique_regions}')\n",
    "print(f'Unique Product Categories: {unique_categories}')"
   ]
  },
  {
   "cell_type": "code",
   "execution_count": null,
   "id": "e49c0547",
   "metadata": {},
   "outputs": [],
   "source": [
    "# Q9\n",
    "# How many unique customers are present in the dataset?\n",
    "unique_customers = df['Customer_ID'].nunique()\n",
    "print(f'Unique Customers: {unique_customers}')"
   ]
  },
  {
   "cell_type": "code",
   "execution_count": null,
   "id": "9309bb4b",
   "metadata": {},
   "outputs": [],
   "source": [
    "# Q10\n",
    "# What are the most frequent product categories?\n",
    "category_counts = df['Product_Category'].value_counts()\n",
    "display(category_counts)"
   ]
  },
  {
   "cell_type": "code",
   "execution_count": null,
   "id": "549b80d4-7a05-4fec-be80-e8ad41c802b3",
   "metadata": {},
   "outputs": [],
   "source": [
    "# Q11: \n",
    "# Filtering customers in the 'North' region who used 'Credit Card'\n",
    "north_credit_customers = df[\n",
    "    (df['Region'].eq('North')) & \n",
    "    (df['Payment_Method'].eq('Credit Card'))\n",
    "]\n",
    "north_credit_customers\n",
    "        "
   ]
  },
  {
   "cell_type": "code",
   "execution_count": null,
   "id": "8ff2b15c-0595-49e8-acdc-6d51e1f01d1e",
   "metadata": {},
   "outputs": [],
   "source": [
    "# Q12\n",
    "# Filtering online orders for 'Electronics' with discount > 10%\n",
    "online_electronics_discount = df[\n",
    "    (df['Store_Type'].eq('Online')) & \n",
    "    (df['Product_Category'].eq('Electronics')) & \n",
    "    (df['Discount'].gt(0.10))\n",
    "]\n",
    "online_electronics_discount\n",
    "        "
   ]
  },
  {
   "cell_type": "code",
   "execution_count": null,
   "id": "302c67d9-5b51-4c79-a97d-9f008d105c5a",
   "metadata": {},
   "outputs": [],
   "source": [
    "# Q13\n",
    "# Calculating the average price of products by region\n",
    "average_price_by_region = df.groupby('Region')['Price'].mean()\n",
    "average_price_by_region\n",
    "        "
   ]
  },
  {
   "cell_type": "code",
   "execution_count": null,
   "id": "40ba241b-7fcd-4ece-82c3-40196fbbf84e",
   "metadata": {},
   "outputs": [],
   "source": [
    "# Q14\n",
    "# Aggregating total quantity sold by product category and region\n",
    "total_quantity_by_category_region = df.groupby(['Region', 'Product_Category'])['Quantity'].sum()\n",
    "total_quantity_by_category_region\n",
    "        "
   ]
  },
  {
   "cell_type": "code",
   "execution_count": null,
   "id": "99626ea3-6830-4876-912b-49580307a622",
   "metadata": {},
   "outputs": [],
   "source": [
    "# Q15\n",
    "# Creating a pivot table for average price by payment method and region\n",
    "pivot_table_price_payment_region = df.pivot_table(\n",
    "    values='Price', index='Region', columns='Payment_Method', aggfunc='mean', fill_value=0\n",
    ")\n",
    "pivot_table_price_payment_region\n",
    "        "
   ]
  },
  {
   "cell_type": "code",
   "execution_count": null,
   "id": "5b4c59c7-abdd-4dbb-8798-a00c59665351",
   "metadata": {},
   "outputs": [],
   "source": [
    "# Q16\n",
    "import seaborn as sns\n",
    "\n",
    "# Calculating correlation\n",
    "correlation_matrix = df[['Age', 'Quantity', 'Price']].corr()\n",
    "\n",
    "# Plotting heatmap\n",
    "sns.heatmap(correlation_matrix, annot=True, cmap='coolwarm')\n",
    "        "
   ]
  },
  {
   "cell_type": "code",
   "execution_count": null,
   "id": "bec114ad-80be-4d50-b2f7-056d1a7ca43c",
   "metadata": {},
   "outputs": [],
   "source": [
    "# Q 17\n",
    "# Defining a function to categorize age\n",
    "def categorize_age(age):\n",
    "    if age < 40:\n",
    "        return 'Young'\n",
    "    elif 40 <= age <= 59:\n",
    "        return 'Middle-aged'\n",
    "    else:\n",
    "        return 'Old'\n",
    "\n",
    "# Applying the function\n",
    "df['Age_Category'] = df['Age'].apply(categorize_age)\n",
    "df[['Age', 'Age_Category']].head()\n",
    "        "
   ]
  },
  {
   "cell_type": "code",
   "execution_count": null,
   "id": "10509afc-6026-4a6b-8e8a-bca7997a23e2",
   "metadata": {},
   "outputs": [],
   "source": [
    "# Q18\n",
    "# Calculating the total value after applying the discount\n",
    "df['Total_Value'] = df['Price'] * df['Quantity'] * (1 - df['Discount'])\n",
    "df[['Price', 'Quantity', 'Discount', 'Total_Value']].head()\n",
    "        "
   ]
  },
  {
   "cell_type": "code",
   "execution_count": null,
   "id": "fbba130d-e847-4220-9f20-8391bd1b1e02",
   "metadata": {},
   "outputs": [],
   "source": [
    "# Q19\n",
    "# Identifying returning customers\n",
    "customer_transaction_counts = df['Customer_ID'].value_counts()\n",
    "returning_customers = customer_transaction_counts[customer_transaction_counts.gt(1)]\n",
    "\n",
    "# Calculating the percentage of returning customers\n",
    "percentage_returning = (len(returning_customers) / len(customer_transaction_counts)) * 100\n",
    "returning_customers, percentage_returning\n",
    "        "
   ]
  },
  {
   "cell_type": "code",
   "execution_count": null,
   "id": "82a4f84f-b47e-4cf9-9250-0e6c3c6b542a",
   "metadata": {},
   "outputs": [],
   "source": [
    "# Q20\n",
    "# Filtering online orders and calculating average lead time by product category\n",
    "online_orders = df[df['Store_Type'] == 'Online']\n",
    "average_lead_time_by_category = online_orders.groupby('Product_Category')['Lead_Time_Days'].mean()\n",
    "average_lead_time_by_category\n",
    "        "
   ]
  },
  {
   "cell_type": "code",
   "execution_count": null,
   "id": "01a28b19-d5de-43a1-8358-be9a0d11916f",
   "metadata": {},
   "outputs": [],
   "source": [
    "# Q21\n",
    "def calculate_discount_frequency(discounts):\n",
    "    \"\"\"\n",
    "    Calculate the frequency of discounts in a given series.\n",
    "    The frequency is defined as the proportion of non-zero discounts.\n",
    "    \n",
    "    It accepts discounts (Series): The 'Discount' column for a specific group.\n",
    "    \n",
    "    It returns Proportion of non-zero discounts.\n",
    "    \"\"\"\n",
    "    return (discounts > 0).sum() / len(discounts)\n",
    "\n",
    "# Calculate the frequency of discounts by region using the defined function\n",
    "discount_frequency_by_region = df.groupby(\"Region\")[\"Discount\"].apply(calculate_discount_frequency)\n",
    "\n",
    "# Calculate the average discount by region using groupby and mean\n",
    "average_discount_by_region = df.groupby(\"Region\")[\"Discount\"].mean()\n",
    "\n",
    "# Display the frequency of discounts by region\n",
    "print(\"Frequency of Discounts by Region:\")\n",
    "print(discount_frequency_by_region)\n",
    "\n",
    "# Display the average discount by region\n",
    "print(\"\\nAverage Discount by Region:\")\n",
    "print(average_discount_by_region)\n",
    "\n"
   ]
  },
  {
   "cell_type": "code",
   "execution_count": null,
   "id": "570cf39f-a411-4c08-b3da-11e21bc65fe8",
   "metadata": {},
   "outputs": [],
   "source": [
    "# Q22\n",
    "# Group by 'Store_Type' and filter only 'Online' purchases\n",
    "online_purchases = df[df[\"Store_Type\"].eq(\"Online\")]\n",
    "\n",
    "# Calculate the most common payment method for online purchases\n",
    "most_common_payment_method = online_purchases[\"Payment_Method\"].value_counts().idxmax()\n",
    "\n",
    "# Calculate the count of payment methods for online purchases by region\n",
    "payment_method_by_region = online_purchases.groupby(\"Region\")[\"Payment_Method\"].value_counts()\n",
    "\n",
    "# Display the most common payment method\n",
    "print(\"Most Common Payment Method for Online Purchases:\")\n",
    "print(most_common_payment_method)\n",
    "\n",
    "# Display the payment method distribution by region\n",
    "print(\"\\nPayment Method Distribution for Online Purchases by Region:\")\n",
    "print(payment_method_by_region)\n"
   ]
  },
  {
   "cell_type": "code",
   "execution_count": null,
   "id": "e3306795-b1f4-4829-bf26-b9800b245f2a",
   "metadata": {},
   "outputs": [],
   "source": [
    "# Q 23\n",
    "# Group by Customer_ID and calculate the total monetary value of transactions\n",
    "total_value_by_customer = df.groupby(\"Customer_ID\")[\"Total_Value\"].sum()\n",
    "\n",
    "# Sort customers by total value in descending order\n",
    "top_customers = total_value_by_customer.sort_values(ascending=False).head(10)\n",
    "\n",
    "# Display the top 10 customers\n",
    "print(\"Top 10 Customers by Total Monetary Value:\")\n",
    "print(top_customers)\n",
    "top_customers.plot(kind = 'bar', \n",
    "                   rot = 45, \n",
    "                   color = 'green',\n",
    "                  legend = True,\n",
    "                  xlabel = 'Customer ID',\n",
    "                  ylabel = 'Total Money Spent')\n"
   ]
  },
  {
   "cell_type": "code",
   "execution_count": null,
   "id": "391dbd1a-32da-43a4-a2a9-d8e2024bc626",
   "metadata": {},
   "outputs": [],
   "source": [
    "#Q 24\n",
    "# Group by Store_Type and calculate the average discount for each type\n",
    "average_discount_by_store_type = df.groupby(\"Store_Type\")[\"Discount\"].mean()\n",
    "\n",
    "# Display the results\n",
    "print(\"Average Discount by Store Type:\")\n",
    "print(average_discount_by_store_type)\n",
    "\n",
    "# Analyze which platform offers higher discounts\n",
    "higher_discount_store_type = average_discount_by_store_type.idxmax()\n",
    "print(f\"\\nThe platform offering higher discounts on average is: {higher_discount_store_type}\")\n",
    "\n",
    "average_discount_by_store_type.plot(kind=\"bar\", \n",
    "                                    color=[\"orange\", \"blue\"], \n",
    "                                    legend=False,\n",
    "                                   title = \"Average Discount by Store Type\", \n",
    "                                   xlabel = 'Store Type',\n",
    "                                   ylabel = 'Average Discount',\n",
    "                                   rot = 0)\n"
   ]
  },
  {
   "cell_type": "code",
   "execution_count": null,
   "id": "871d3c8e-e9bc-493f-a24d-4d6fc9b937f1",
   "metadata": {},
   "outputs": [],
   "source": []
  }
 ],
 "metadata": {
  "kernelspec": {
   "display_name": "Python 3 (ipykernel)",
   "language": "python",
   "name": "python3"
  },
  "language_info": {
   "codemirror_mode": {
    "name": "ipython",
    "version": 3
   },
   "file_extension": ".py",
   "mimetype": "text/x-python",
   "name": "python",
   "nbconvert_exporter": "python",
   "pygments_lexer": "ipython3",
   "version": "3.12.4"
  }
 },
 "nbformat": 4,
 "nbformat_minor": 5
}
