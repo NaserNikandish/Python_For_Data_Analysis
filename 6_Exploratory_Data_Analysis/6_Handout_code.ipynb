{
 "cells": [
  {
   "cell_type": "markdown",
   "id": "28874fcd-d92c-484c-bd60-a037747e3e75",
   "metadata": {},
   "source": [
    "# Handout code\n",
    "## This section is provided for your convenience. Feel free to run the code locally and explore how adjusting the parameters in different functions impacts the results."
   ]
  },
  {
   "cell_type": "code",
   "execution_count": null,
   "id": "8e624fe6-c0dc-4651-b256-9e13327a2895",
   "metadata": {},
   "outputs": [],
   "source": [
    "import pandas as pd\n",
    "pd.options.display.precision = 1\n",
    "\n",
    "game_data = {\n",
    "    \"User_ID\": [101, 102, 103, 104, 105, 106, 107],\n",
    "    \"Age\": [23, 35, 45, 30, 25, 28, 33],\n",
    "    \"Gender\": [\"F\", \"M\", \"M\", \"F\", \"F\", \"M\", \"F\"],  \n",
    "    \"Country\": [\"US\", \"CA\", \"US\", \"CA\", \"US\", \"US\", \"US\"],  \n",
    "    \"Game_Score\": [88, 92, 78, 85, None, 95, 82],\n",
    "    \"Sessions\": [5, 8, 6, 9, 3, 7, 4],\n",
    "    \"Device\": [\"Mobile\", \"Desktop\", \"Tablet\", \"Mobile\", \"Mobile\", \"Desktop\", \"Mobile\"],\n",
    "    \"App_Rating\": [5.0, None, 3.8, 4.2, 4.0, 4.7, 4.1],\n",
    "    \"Game_Type\": [\n",
    "        [\"Candy Crush\", \"Warzone\"],\n",
    "        [\"Fortnite\", \"Elden Ring\"],\n",
    "        [\"Super Mario\", \"Elden Ring\"],\n",
    "        [\"Minecraft\", \"Among Us\"],\n",
    "        [\"Roblox\", \"Call of Duty\"],\n",
    "        [\"Candy Crush\", \"PUBG\"],\n",
    "        [\"Among Us\", \"Candy Crush\"]\n",
    "    ]\n",
    "}\n",
    "\n",
    "game_df = pd.DataFrame(game_data)\n",
    "display(game_df)"
   ]
  },
  {
   "cell_type": "code",
   "execution_count": null,
   "id": "fadefc1d-0cdd-48e8-ab0a-df76be8fb171",
   "metadata": {},
   "outputs": [],
   "source": [
    "game_df.head()"
   ]
  },
  {
   "cell_type": "code",
   "execution_count": null,
   "id": "e47a5cec-cdf8-49e8-8ac6-78c5571d4e92",
   "metadata": {},
   "outputs": [],
   "source": [
    "game_df.sample(3)"
   ]
  },
  {
   "cell_type": "code",
   "execution_count": null,
   "id": "e706be7c-7ee3-4e03-9f0a-de80bad3a2ce",
   "metadata": {},
   "outputs": [],
   "source": [
    "game_df.info()"
   ]
  },
  {
   "cell_type": "code",
   "execution_count": null,
   "id": "41022a82-b15f-48ba-9ea3-d6fb32223a53",
   "metadata": {},
   "outputs": [],
   "source": [
    "game_df.describe()"
   ]
  },
  {
   "cell_type": "code",
   "execution_count": null,
   "id": "36acf9d7-f756-4426-8c91-6a5c8907b762",
   "metadata": {},
   "outputs": [],
   "source": [
    "game_df.describe(include='all')"
   ]
  },
  {
   "cell_type": "code",
   "execution_count": null,
   "id": "d7d22b0d-0287-4335-a5d7-9a0a30c0e797",
   "metadata": {},
   "outputs": [],
   "source": [
    "game_df.isnull()"
   ]
  },
  {
   "cell_type": "code",
   "execution_count": null,
   "id": "e07a5b6f-7bb3-4ba6-9775-fa44285f5b61",
   "metadata": {},
   "outputs": [],
   "source": [
    "game_df.isnull().sum()"
   ]
  },
  {
   "cell_type": "code",
   "execution_count": null,
   "id": "f86e19d2-bdde-434b-9cdc-eafd14338fed",
   "metadata": {},
   "outputs": [],
   "source": [
    "game_df.isnull().sum().sum()"
   ]
  },
  {
   "cell_type": "code",
   "execution_count": null,
   "id": "41cdde98-f95c-4845-ae73-8a2bd19ec5f8",
   "metadata": {},
   "outputs": [],
   "source": [
    "## converting Age and Sessions to integers\n",
    "game_df[\"Age\"] = game_df[\"Age\"].astype(int)\n",
    "game_df[\"Sessions\"] = game_df[\"Sessions\"].astype(int)\n",
    "\n",
    "## converting Gender to a categorical type\n",
    "game_df[\"Gender\"] = game_df[\"Gender\"].astype(\"category\")\n",
    "\n",
    "## ensuring Game_Score is float\n",
    "game_df[\"Game_Score\"] = game_df[\"Game_Score\"].astype(float)"
   ]
  },
  {
   "cell_type": "code",
   "execution_count": null,
   "id": "86fc43d1-11a6-4730-9d39-9011dd38c638",
   "metadata": {},
   "outputs": [],
   "source": [
    "## Selecting numerical columns\n",
    "print('numerical columns')\n",
    "numerical_columns = game_df.select_dtypes(include=[\"int64\", \"float64\"])\n",
    "display(numerical_columns.head())\n",
    "\n",
    "## Selecting categorical columns\n",
    "print('categorical columns')\n",
    "categorical_columns = game_df.select_dtypes(include=[\"category\", \"object\"])\n",
    "display(categorical_columns.head())"
   ]
  },
  {
   "cell_type": "code",
   "execution_count": null,
   "id": "cb8eaf92-9d1a-4358-9ccf-ca3f32be40bb",
   "metadata": {},
   "outputs": [],
   "source": [
    "game_df_expanded = game_df.explode(\"Game_Type\")\n",
    "display(game_df_expanded)"
   ]
  },
  {
   "cell_type": "code",
   "execution_count": null,
   "id": "64f5273f-25f7-4d02-a2cb-bc3fac307fc2",
   "metadata": {},
   "outputs": [],
   "source": [
    "popular_games = game_df_expanded[\"Game_Type\"].value_counts()\n",
    "display(popular_games)"
   ]
  },
  {
   "cell_type": "code",
   "execution_count": null,
   "id": "14e24707-0273-4d8c-a327-986d38ef3042",
   "metadata": {},
   "outputs": [],
   "source": [
    "def categorize_rating(rating):\n",
    "    \"\"\"\n",
    "    a function to categorize the app rating \n",
    "    with a threshold of 4\n",
    "    \"\"\"\n",
    "    if rating >= 4:\n",
    "        return \"High\"\n",
    "    else:\n",
    "        return \"Low\"\n",
    "\n",
    "# Apply the function using the 'map' method\n",
    "game_df[\"Rating_Category\"] = game_df[\"App_Rating\"].map(categorize_rating)\n",
    "\n",
    "# Display the updated DataFrame with App Rating and Rating Category\n",
    "display(game_df[[\"App_Rating\", \"Rating_Category\"]])"
   ]
  },
  {
   "cell_type": "code",
   "execution_count": null,
   "id": "1300085f-414d-4377-9a82-d13ba0ffdd97",
   "metadata": {},
   "outputs": [],
   "source": [
    "def calculate_engagement_score(row):\n",
    "    \"\"\"\n",
    "    Calculate engagement score based on Game_Score, App_Rating, and Sessions.\n",
    "    \n",
    "    The engagement score is calculated as:\n",
    "        (Game_Score * App_Rating) / Sessions\n",
    "        \n",
    "    If Sessions is 0, the score is set to 0 to avoid division by zero.\n",
    "    \n",
    "    Parameters:\n",
    "    row (pandas.Series): A single row of the DataFrame. Each row contains \n",
    "    the values of all columns for that specific observation, allowing us \n",
    "    to access the \"Game_Score\", \"App_Rating\", and \"Sessions\" values directly.\n",
    "    \n",
    "    Returns:\n",
    "    float: The engagement score for the given row.\n",
    "    \"\"\"\n",
    "    if row[\"Sessions\"] > 0:\n",
    "        return (row[\"Game_Score\"] * row[\"App_Rating\"]) / row[\"Sessions\"]\n",
    "    else:\n",
    "        return 0\n",
    "\n",
    "# Apply the function row-wise to calculate the Engagement Score\n",
    "# We have axis = 1 indicating that operation is done for every row\n",
    "game_df[\"Engagement_Score\"] = game_df.apply(calculate_engagement_score, axis=1)\n",
    "\n",
    "# Display the updated DataFrame with relevant columns\n",
    "display(game_df[[\"Game_Score\", \"App_Rating\", \"Sessions\", \"Engagement_Score\"]])"
   ]
  },
  {
   "cell_type": "code",
   "execution_count": null,
   "id": "8b680ebc-1042-4c23-91b1-74c5506acd4a",
   "metadata": {},
   "outputs": [],
   "source": [
    "display(game_df.drop(columns=[\"Game_Type\"]).nunique())\n"
   ]
  },
  {
   "cell_type": "code",
   "execution_count": null,
   "id": "dbf77ca6-f7dd-42e0-a2dc-09e6bc6ef9af",
   "metadata": {},
   "outputs": [],
   "source": [
    "print(game_df[\"Gender\"].unique())\n",
    "print(game_df[\"Country\"].unique())\n",
    "print(game_df[\"Device\"].unique())"
   ]
  },
  {
   "cell_type": "code",
   "execution_count": null,
   "id": "23576769-e878-4840-a9b4-139c855a10e2",
   "metadata": {},
   "outputs": [],
   "source": [
    "game_df[game_df[\"Device\"] == \"Mobile\"][\"Country\"].unique()\n"
   ]
  },
  {
   "cell_type": "code",
   "execution_count": null,
   "id": "a73c87e2-461d-4f3f-aebc-e1a58c2ef39b",
   "metadata": {},
   "outputs": [],
   "source": [
    "display(game_df[\"Device\"].value_counts())\n"
   ]
  },
  {
   "cell_type": "code",
   "execution_count": null,
   "id": "8f659dc1-5df8-4c7e-bcb1-b071a9e5d58b",
   "metadata": {},
   "outputs": [],
   "source": [
    "display(game_df[\"Device\"].value_counts(normalize=True))\n"
   ]
  },
  {
   "cell_type": "code",
   "execution_count": null,
   "id": "ad08c76a-0123-4b6f-a469-6e5e49168bfe",
   "metadata": {},
   "outputs": [],
   "source": [
    "device_gender_counts = game_df.value_counts(subset=[\"Device\", \"Gender\"])\n",
    "display(device_gender_counts)"
   ]
  },
  {
   "cell_type": "code",
   "execution_count": null,
   "id": "370a642d-09ef-45ad-be95-ba56b6c28e13",
   "metadata": {},
   "outputs": [],
   "source": [
    "display(device_gender_counts.index)"
   ]
  },
  {
   "cell_type": "code",
   "execution_count": null,
   "id": "ec140a44-c320-4c36-99cd-67185b2c7b9c",
   "metadata": {},
   "outputs": [],
   "source": [
    "display(device_gender_counts.loc[(\"Mobile\", \"F\")])\n"
   ]
  },
  {
   "cell_type": "code",
   "execution_count": null,
   "id": "09421d6d-5f5e-41d2-ba6e-20244bea8793",
   "metadata": {},
   "outputs": [],
   "source": [
    "display(device_gender_counts.loc[[(\"Mobile\", \"F\"), (\"Tablet\", \"M\")]])\n"
   ]
  },
  {
   "cell_type": "code",
   "execution_count": null,
   "id": "c38d80af-d94d-4a61-8914-2e64890e6e73",
   "metadata": {},
   "outputs": [],
   "source": [
    "# Step 1\n",
    "game_df[\"Device\"] = game_df[\"Device\"].astype(\"category\")\n",
    "\n",
    "# Step 2\n",
    "game_df[\"encoded_Device\"] = game_df[\"Device\"].cat.codes"
   ]
  },
  {
   "cell_type": "code",
   "execution_count": null,
   "id": "8655d9a1-d51e-4b55-95f3-06c50ca6b58d",
   "metadata": {},
   "outputs": [],
   "source": [
    "cat_dict = dict(enumerate(game_df[\"Device\"].cat.categories))\n",
    "cat_dict"
   ]
  },
  {
   "cell_type": "code",
   "execution_count": null,
   "id": "17e5f331-aa13-4ca7-97b2-339d55c3a0e9",
   "metadata": {},
   "outputs": [],
   "source": [
    "game_df"
   ]
  },
  {
   "cell_type": "code",
   "execution_count": null,
   "id": "414db129-4c17-4768-a318-65ef93ffac10",
   "metadata": {},
   "outputs": [],
   "source": [
    "encoding_dict = {\n",
    "    \"Device\": {1: \"Mobile\", 2: \"Desktop\", 3: \"Tablet\"}\n",
    "}\n",
    "game_df.replace(encoding_dict, inplace=True)\n",
    "display(game_df[[\"Device\"]])"
   ]
  },
  {
   "cell_type": "code",
   "execution_count": null,
   "id": "4fa8d8e1-5463-47fb-b5e2-77afbcab40ff",
   "metadata": {},
   "outputs": [],
   "source": [
    "game_df"
   ]
  },
  {
   "cell_type": "code",
   "execution_count": null,
   "id": "34be6f39-b4b9-4a39-bf53-757d2321e06e",
   "metadata": {},
   "outputs": [],
   "source": [
    "# I added this cell to bring back the device names; instead of codes of 1, 2,3 created\n",
    "# in the previous cell\n",
    "\n",
    "encoding_dict = {\n",
    "    \"Device\": {1: \"Mobile\", 2: \"Desktop\", 3: \"Tablet\"}\n",
    "}\n",
    "game_df.replace(encoding_dict, inplace=True)\n",
    "display(game_df[[\"Device\"]])"
   ]
  },
  {
   "cell_type": "code",
   "execution_count": null,
   "id": "9368a0ce-1fd9-433d-89e9-f24dc205bc0d",
   "metadata": {},
   "outputs": [],
   "source": [
    "game_df"
   ]
  },
  {
   "cell_type": "code",
   "execution_count": null,
   "id": "1b9f159a-29fe-482a-b9c8-a31b1611cbb2",
   "metadata": {},
   "outputs": [],
   "source": [
    "game_df_one_hot = pd.get_dummies(game_df, columns=[\"Device\"], dtype = int)\n",
    "game_df"
   ]
  },
  {
   "cell_type": "code",
   "execution_count": null,
   "id": "84a2a6af-8d51-4fb8-b3ce-0feb80054290",
   "metadata": {},
   "outputs": [],
   "source": [
    "game_df_one_hot"
   ]
  },
  {
   "cell_type": "code",
   "execution_count": null,
   "id": "a7114631-182c-4ac3-92f6-57c4eca27a8d",
   "metadata": {},
   "outputs": [],
   "source": [
    "us_users = game_df.query(\"Country == 'US'\")\n",
    "display(us_users)"
   ]
  },
  {
   "cell_type": "code",
   "execution_count": null,
   "id": "78f5e36a-e690-4f0e-866c-5c77b2fa8fcb",
   "metadata": {},
   "outputs": [],
   "source": [
    "# Select rows where Game_Score > 85 and Device is Mobile\n",
    "high_scoring_mobile_users = game_df.query(\"Game_Score > 85 & Device == 'Mobile'\")\n",
    "display(high_scoring_mobile_users)"
   ]
  },
  {
   "cell_type": "code",
   "execution_count": null,
   "id": "d2f17655-3239-405c-9213-97e025160e52",
   "metadata": {},
   "outputs": [],
   "source": [
    "# Select rows where Gender is F and Sessions > 5\n",
    "active_female_users = game_df.query(\"Gender == 'F' & Sessions > 5\")\n",
    "display(active_female_users)"
   ]
  },
  {
   "cell_type": "code",
   "execution_count": null,
   "id": "79cb1a70-b4c5-4b72-80f0-d844e4078dc3",
   "metadata": {},
   "outputs": [],
   "source": [
    "threshold = 85\n",
    "game_df.query(\"Game_Score > @threshold\")"
   ]
  },
  {
   "cell_type": "code",
   "execution_count": null,
   "id": "d8d7fb95-5a10-4e84-8669-513a6fae6896",
   "metadata": {},
   "outputs": [],
   "source": [
    "avg_game_score_by_country = game_df.groupby(\"Country\")[\"Game_Score\"].mean()\n",
    "display(avg_game_score_by_country)"
   ]
  },
  {
   "cell_type": "code",
   "execution_count": null,
   "id": "a13d3bf1-074a-47c6-92b4-1e616ded810e",
   "metadata": {},
   "outputs": [],
   "source": [
    "avg_game_score_country_device = game_df.groupby([\"Country\", \"Device\"])[\"Game_Score\"].mean()\n",
    "display(avg_game_score_country_device)"
   ]
  },
  {
   "cell_type": "code",
   "execution_count": null,
   "id": "7d91fbc1-ccb9-4eab-890b-8bad4c32b87c",
   "metadata": {},
   "outputs": [],
   "source": [
    "user_counts_by_device = game_df.groupby(\"Device\")[\"User_ID\"].count()\n",
    "display(user_counts_by_device)\n"
   ]
  },
  {
   "cell_type": "code",
   "execution_count": null,
   "id": "57ca1196-8c90-4485-8736-5239514dec2c",
   "metadata": {},
   "outputs": [],
   "source": [
    "summary_stats = game_df.groupby(\"Country\").agg({\n",
    "                                                \"Game_Score\": [\"mean\", \"max\"], \n",
    "                                                \"Sessions\": \"mean\"})\n",
    "display(summary_stats)"
   ]
  },
  {
   "cell_type": "code",
   "execution_count": null,
   "id": "0624b79f-09f7-4268-abe1-6c2ed3b60d7c",
   "metadata": {},
   "outputs": [],
   "source": [
    "def score_range(input_s):\n",
    "    \"\"\"\n",
    "    returning range of a Series\n",
    "\n",
    "    \"\"\"\n",
    "    return input_s.max() - input_s.min()\n",
    "\n",
    "# Using custom aggregation function in agg\n",
    "score_summary = game_df.groupby(\"Device\").agg({\"Game_Score\": [\"mean\", score_range]})\n",
    "display(score_summary)"
   ]
  },
  {
   "cell_type": "code",
   "execution_count": null,
   "id": "dc7f0aaf-7541-429f-8e14-16ce27483e66",
   "metadata": {},
   "outputs": [],
   "source": [
    "pivot_table = game_df.pivot_table(index = \"Country\", \n",
    "                                  columns = \"Device\",\n",
    "                                  values = \"Game_Score\", \n",
    "                                  aggfunc = \"mean\", \n",
    "                                  fill_value = 0)\n",
    "display(pivot_table)"
   ]
  },
  {
   "cell_type": "code",
   "execution_count": null,
   "id": "64f8462f-39ab-491e-af90-5260f546d100",
   "metadata": {},
   "outputs": [],
   "source": [
    "# Creating a pivot table with multiple aggregations\n",
    "pivot_table_multi = game_df.pivot_table(index=\"Country\", \n",
    "                                        columns=\"Device\",\n",
    "                                        values=[\"Game_Score\", \"Sessions\"],  \n",
    "                                        aggfunc={\"Game_Score\": \"mean\", \"Sessions\": \"sum\"}, \n",
    "                                        fill_value=0,\n",
    "                                        margins = True)\n",
    "display(pivot_table_multi)"
   ]
  },
  {
   "cell_type": "code",
   "execution_count": null,
   "id": "129a1391-2cc4-4263-81c9-430df817a860",
   "metadata": {},
   "outputs": [],
   "source": [
    "# redefine game_df before calculating corr\n",
    "game_data = {\n",
    "    \"User_ID\": [101, 102, 103, 104, 105, 106, 107],\n",
    "    \"Age\": [23, 35, 45, 30, 25, 28, 33],\n",
    "    \"Gender\": [\"F\", \"M\", \"M\", \"F\", \"F\", \"M\", \"F\"],  \n",
    "    \"Country\": [\"US\", \"CA\", \"US\", \"CA\", \"US\", \"US\", \"US\"],  \n",
    "    \"Game_Score\": [88, 92, 78, 85, None, 95, 82],\n",
    "    \"Sessions\": [5, 8, 6, 9, 3, 7, 4],\n",
    "    \"Device\": [\"Mobile\", \"Desktop\", \"Tablet\", \"Mobile\", \"Mobile\", \"Desktop\", \"Mobile\"],\n",
    "    \"App_Rating\": [5.0, None, 3.8, 4.2, 4.0, 4.7, 4.1],\n",
    "    \"Game_Type\": [\n",
    "        [\"Candy Crush\", \"Warzone\"],\n",
    "        [\"Fortnite\", \"Elden Ring\"],\n",
    "        [\"Super Mario\", \"Elden Ring\"],\n",
    "        [\"Minecraft\", \"Among Us\"],\n",
    "        [\"Roblox\", \"Call of Duty\"],\n",
    "        [\"Candy Crush\", \"PUBG\"],\n",
    "        [\"Among Us\", \"Candy Crush\"]\n",
    "    ]\n",
    "}\n",
    "\n",
    "game_df = pd.DataFrame(game_data)\n",
    "#display(game_df)"
   ]
  },
  {
   "cell_type": "code",
   "execution_count": null,
   "id": "fd52710d-fb23-4677-8ee6-ec64fab17abc",
   "metadata": {},
   "outputs": [],
   "source": [
    "# Select only numerical columns\n",
    "numerical_game_df = game_df.select_dtypes(include=['number']).drop(columns = ['User_ID'])\n",
    "\n",
    "# Compute correlation\n",
    "correlation_matrix = numerical_game_df.corr()\n",
    "correlation_matrix\n"
   ]
  },
  {
   "cell_type": "code",
   "execution_count": null,
   "id": "2591c7db-556b-4dda-9918-4d7b4a03a7bb",
   "metadata": {},
   "outputs": [],
   "source": [
    "import seaborn as sns\n",
    "\n",
    "sns.heatmap(correlation_matrix, annot=True)"
   ]
  },
  {
   "cell_type": "code",
   "execution_count": null,
   "id": "27cbc4ec-65e7-4e7a-8ec2-391fcdcf1cdb",
   "metadata": {},
   "outputs": [],
   "source": []
  }
 ],
 "metadata": {
  "kernelspec": {
   "display_name": "Python 3 (ipykernel)",
   "language": "python",
   "name": "python3"
  },
  "language_info": {
   "codemirror_mode": {
    "name": "ipython",
    "version": 3
   },
   "file_extension": ".py",
   "mimetype": "text/x-python",
   "name": "python",
   "nbconvert_exporter": "python",
   "pygments_lexer": "ipython3",
   "version": "3.12.4"
  }
 },
 "nbformat": 4,
 "nbformat_minor": 5
}
