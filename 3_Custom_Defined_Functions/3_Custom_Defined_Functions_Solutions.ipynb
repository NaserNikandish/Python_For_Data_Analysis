{
 "cells": [
  {
   "cell_type": "markdown",
   "id": "2eb2c3ac-4506-45ba-b12c-63f891428535",
   "metadata": {},
   "source": [
    "# Solution to `Custom-Defined Functions` Exercise Questions"
   ]
  },
  {
   "cell_type": "markdown",
   "id": "3dd761ff-1fbd-4365-99d9-7b9ba7294d41",
   "metadata": {},
   "source": [
    "## 1. Calculate Sample Variance\n",
    "This function calculates the sample variance of a list of numbers.\n",
    "The approach uses the formula for sample variance, dividing the sum of squared deviations by (n-1)."
   ]
  },
  {
   "cell_type": "code",
   "execution_count": null,
   "id": "3a844f95-db44-476a-82a2-c07cd3e9e6b1",
   "metadata": {},
   "outputs": [],
   "source": [
    "def calculate_sample_variance(data):\n",
    "    \"\"\"\n",
    "    Calculate the sample variance of a list of numbers.\n",
    "    \"\"\"\n",
    "    if len(data) < 2:\n",
    "        return None  # need at least two data points\n",
    "    else:\n",
    "        mean = sum(data) / len(data)  \n",
    "        variance = sum((x - mean) ** 2 for x in data) / (len(data) - 1)  \n",
    "        return variance"
   ]
  },
  {
   "cell_type": "markdown",
   "id": "3edf5432-3635-40bd-aa26-da00d4533886",
   "metadata": {},
   "source": [
    "## 2. Filter Even Numbers\n",
    "This function filters and returns only the even numbers from a list of integers.\n",
    "We use list comprehension to check each number's divisibility by 2."
   ]
  },
  {
   "cell_type": "code",
   "execution_count": null,
   "id": "ea582c43-7643-42a6-84f2-f1be9c5cfad0",
   "metadata": {},
   "outputs": [],
   "source": [
    "def filter_even_numbers(numbers):\n",
    "    \"\"\"\n",
    "    Filter and return the even numbers from a list of integers.\n",
    "    \"\"\"\n",
    "    return [num for num in numbers if num % 2 == 0]  "
   ]
  },
  {
   "cell_type": "markdown",
   "id": "679676ed-f28b-4051-acf6-1cb5353c61fe",
   "metadata": {},
   "source": [
    "## 3. Count Vowels\n",
    "This function counts the number of vowels in a given string, ignoring case.\n",
    "We iterate through the string and check membership in a list of vowels."
   ]
  },
  {
   "cell_type": "markdown",
   "id": "1e1aa402-5060-4e15-a79c-3553504451a0",
   "metadata": {},
   "source": [
    "### Solution 1"
   ]
  },
  {
   "cell_type": "code",
   "execution_count": null,
   "id": "423e66c1-7955-4d86-a762-fb4d6b9613ac",
   "metadata": {},
   "outputs": [],
   "source": [
    "def count_vowels(input_string):\n",
    "    \"\"\"\n",
    "    Count the number of vowels (a, e, i, o, u) in a string, ignoring case.\n",
    "    \"\"\"\n",
    "    vowels = \"aAeEiIoOuU\"  # string of vowels\n",
    "    count = 0\n",
    "    for char in input_string:\n",
    "        if char in vowels:\n",
    "            count += 1  # increment the count if the character is a vowel\n",
    "    return count"
   ]
  },
  {
   "cell_type": "markdown",
   "id": "bd3e8b5a-301d-4139-9e0c-407bee986201",
   "metadata": {},
   "source": [
    "### Solution 2"
   ]
  },
  {
   "cell_type": "code",
   "execution_count": 2,
   "id": "3a4a37d4-757f-4369-bcf1-d78f00d4b167",
   "metadata": {},
   "outputs": [],
   "source": [
    "def count_vowels(string):\n",
    "    \"\"\"\n",
    "    Count the number of vowels in a string, ignoring case.\n",
    "    \"\"\"\n",
    "    vowels = \"aAeEiIoOuU\"  # string of vowels\n",
    "    temp = [1 for char in string if char in vowels] # using list comprehension\n",
    "    \n",
    "    return sum(temp)"
   ]
  },
  {
   "cell_type": "code",
   "execution_count": null,
   "id": "57ae985c-061b-462a-8754-b0f94e5585bc",
   "metadata": {},
   "outputs": [],
   "source": []
  },
  {
   "cell_type": "markdown",
   "id": "597eaaa4-d3fb-47db-a15b-f8ce5be3b86a",
   "metadata": {},
   "source": [
    "## 4. Reverse String\n",
    "This function takes a string and returns the string reversed.\n",
    "We use Python slicing to reverse the string."
   ]
  },
  {
   "cell_type": "code",
   "execution_count": null,
   "id": "d6175c3f-f761-4695-b376-caf1ec410ad8",
   "metadata": {},
   "outputs": [],
   "source": [
    "def reverse_string(string):\n",
    "    \"\"\"\n",
    "    Reverse the given string.\n",
    "    \"\"\"\n",
    "    return string[::-1]  # use slicing"
   ]
  },
  {
   "cell_type": "markdown",
   "id": "7a758b36-3ca8-49c7-bf61-8a67df5dedd2",
   "metadata": {},
   "source": [
    "## 5. Calculate Factorial\n",
    "This function calculates the factorial of a non-negative integer.\n",
    "We iterate from 2 to n to compute the product iteratively."
   ]
  },
  {
   "cell_type": "code",
   "execution_count": null,
   "id": "b6a20d61-9dca-404b-ae10-a2472d808514",
   "metadata": {},
   "outputs": [],
   "source": [
    "def calculate_factorial(n):\n",
    "    \"\"\"\n",
    "    Calculate the factorial of a non-negative integer.\n",
    "    \"\"\"\n",
    "    if n == 0 or n == 1:\n",
    "        return 1  # factorial of 0 or 1 is 1\n",
    "    else:\n",
    "        factorial = 1  # starting point\n",
    "        for i in range(2, n+1):\n",
    "            factorial *= i  # loop until n\n",
    "        return factorial"
   ]
  },
  {
   "cell_type": "markdown",
   "id": "a3381423-6d86-42ca-9516-f032b9b270be",
   "metadata": {},
   "source": [
    "## 6. Merge Dictionaries\n",
    "This function merges two dictionaries, with values from the second dictionary overwriting any duplicate keys from the first.\n",
    "We copy the first dictionary and use `update()` to merge."
   ]
  },
  {
   "cell_type": "markdown",
   "id": "3b001df2-b515-40f7-b77f-f61cc5530b9d",
   "metadata": {},
   "source": [
    "# Solution 1"
   ]
  },
  {
   "cell_type": "code",
   "execution_count": 5,
   "id": "170619e0-e853-4e36-a242-3007602bdc7b",
   "metadata": {},
   "outputs": [],
   "source": [
    "def merge_dictionaries(dict1, dict2):\n",
    "    \"\"\"\n",
    "    Merge two dictionaries, with values from the second dictionary overwriting any duplicate keys.\n",
    "    \"\"\"\n",
    "    return dict1 | dict2  "
   ]
  },
  {
   "cell_type": "markdown",
   "id": "06bd1b5c-416d-4c22-a44b-9dda038cfdfe",
   "metadata": {},
   "source": [
    "# Solution 2"
   ]
  },
  {
   "cell_type": "code",
   "execution_count": null,
   "id": "5920e196-79f8-4763-9c42-6c9438e5b646",
   "metadata": {},
   "outputs": [],
   "source": [
    "def merge_dictionaries(dict1, dict2):\n",
    "    \"\"\"\n",
    "    Merge two dictionaries, with values from the second dictionary overwriting any duplicate keys.\n",
    "    \"\"\"\n",
    "    return {**dict1, **dict2}"
   ]
  },
  {
   "cell_type": "markdown",
   "id": "e40e8450-c53c-4f95-8e65-03d0d7c26eef",
   "metadata": {},
   "source": [
    "# Solution 3"
   ]
  },
  {
   "cell_type": "code",
   "execution_count": null,
   "id": "7671806d-c4f7-4a13-b59c-6c7c7c073dee",
   "metadata": {},
   "outputs": [],
   "source": [
    "def merge_dictionaries(dict1, dict2):\n",
    "    \"\"\"\n",
    "    Merge two dictionaries, with values from the second dictionary overwriting any duplicate keys.\n",
    "    \"\"\"\n",
    "    return dict1.update(dict2)"
   ]
  },
  {
   "cell_type": "markdown",
   "id": "10d15574-f95d-413c-9fab-5f444e883352",
   "metadata": {},
   "source": [
    "## 7. Merge and Sum Dictionaries\n",
    "This function merges two dictionaries and sums the values for overlapping keys.\n",
    "We iterate through the second dictionary and sum values for matching keys."
   ]
  },
  {
   "cell_type": "code",
   "execution_count": null,
   "id": "7bf744ba-1a82-4816-aeed-71f9fb002a50",
   "metadata": {},
   "outputs": [],
   "source": [
    "def merge_dictionaries(dict1, dict2):\n",
    "    \"\"\"\n",
    "    Merge two dictionaries and sum the values for overlapping keys.\n",
    "    \"\"\"\n",
    "    for key, value in dict2.items():\n",
    "        if key in dict1:\n",
    "            dict1[key] += value  # sum values for overlapping keys\n",
    "        else:\n",
    "            dict1[key] = value  # add new key-value pairs\n",
    "    return merged_dict"
   ]
  },
  {
   "cell_type": "markdown",
   "id": "9870a1b1-4315-4735-a8da-b361746555be",
   "metadata": {},
   "source": [
    "## 8. Roll Dice\n",
    "This function simulates rolling a six-sided die multiple times.\n",
    "We use the `random.randint()` function to generate random numbers between 1 and 6."
   ]
  },
  {
   "cell_type": "code",
   "execution_count": null,
   "id": "a0aa1919-7c2b-4736-bc3e-e799764fab62",
   "metadata": {},
   "outputs": [],
   "source": [
    "import random\n",
    "\n",
    "def roll_dice(num_rolls):\n",
    "    \"\"\"\n",
    "    Simulate rolling a six-sided die a specified number of times.\n",
    "    \"\"\"\n",
    "    temp = [random.randint(1, 6) for _ in range(num_rolls)]  # random dice rolls\n",
    "    return temp"
   ]
  },
  {
   "cell_type": "markdown",
   "id": "ada7c39f-1442-4bfe-a4a9-3039a4d2ac35",
   "metadata": {},
   "source": [
    "## 9. Generate Random Password\n",
    "This function generates a random password of a given length with uppercase, lowercase, digits, and special characters.\n",
    "We use `random.choice()` to select random characters from different character sets."
   ]
  },
  {
   "cell_type": "code",
   "execution_count": null,
   "id": "bce7f4bb-61d6-4256-bed3-68a16ea2160c",
   "metadata": {},
   "outputs": [],
   "source": [
    "import random\n",
    "\n",
    "def generate_random_password(length):\n",
    "    \"\"\"\n",
    "    Generate a random password of a specified length containing letters, digits, and special characters.\n",
    "    \"\"\"\n",
    "\n",
    "    chars = 'abcdefghijklmnopqrstuvwxyzABCDEFGHIJKLMNOPQRSTUVWXYZ0123456789!@#$%^&*()'\n",
    "    password = ''\n",
    "    \n",
    "    for _ in range(length):\n",
    "        password += random.choice(chars)  # randomly select characters from the defined set\n",
    "    \n",
    "    return password\n"
   ]
  },
  {
   "cell_type": "markdown",
   "id": "d7223739-3c7f-4941-a321-d69191dd414e",
   "metadata": {},
   "source": [
    "## 10. Calculate Mean\n",
    "This function calculates the mean of a list of numbers.\n",
    "We sum the numbers and divide by the length of the list."
   ]
  },
  {
   "cell_type": "code",
   "execution_count": null,
   "id": "cab28a2b-71fa-4ddd-8ade-4a56295959b0",
   "metadata": {},
   "outputs": [],
   "source": [
    "def calculate_mean(numbers):\n",
    "    \"\"\"\n",
    "    Calculate the mean (average) of a list of numbers.\n",
    "    \"\"\"\n",
    "    n_nums = len(numbers)\n",
    "    if n_nums == 0:\n",
    "        return None  # you need at least one value\n",
    "    else:\n",
    "        return sum(numbers) / n_nums"
   ]
  },
  {
   "cell_type": "markdown",
   "id": "5bf81785-28fa-4b6e-b261-d9c7a24d4db3",
   "metadata": {},
   "source": [
    "## 11. Count Occurrences\n",
    "This function counts how many times a target value appears in a list.\n",
    "We use the built-in `count()` method to find occurrences."
   ]
  },
  {
   "cell_type": "code",
   "execution_count": null,
   "id": "7b7af2f8-4d11-4fc1-8d91-db4bdfc41ea8",
   "metadata": {},
   "outputs": [],
   "source": [
    "def count_occurrences(data, target):\n",
    "    \"\"\"\n",
    "    Count the number of times a target value appears in a list.\n",
    "    \"\"\"\n",
    "    return data.count(target)  # using the built-in count() method"
   ]
  },
  {
   "cell_type": "markdown",
   "id": "ee443573-0693-4266-a935-7e8a19d42fc3",
   "metadata": {},
   "source": [
    "## 12. Trimmed Mean\n",
    "This function removes the highest and lowest percentage of grades and returns the mean of the remaining grades.\n",
    "We sort the grades, remove the required percentage from both ends, and compute the mean."
   ]
  },
  {
   "cell_type": "code",
   "execution_count": null,
   "id": "ff5dec8d-3146-42dd-9f7d-bc7c21a983d4",
   "metadata": {},
   "outputs": [],
   "source": [
    "def trimmed_mean(grades, percentage):\n",
    "    \"\"\"\n",
    "    Calculate the trimmed mean by removing the specified percentage of highest and lowest grades.\n",
    "    \"\"\"\n",
    "    n = len(grades)\n",
    "    if n == 0 or percentage < 0 or percentage > 50:\n",
    "        return None  # Invalid input\n",
    "    grades = sorted(grades)  # sort the grades\n",
    "    trim_count = int(n * percentage / 100)  # number of items to remove from each tail\n",
    "    trimmed_grades = grades[trim_count:n-trim_count]  # remove the specified percentage of highest and lowest grades\n",
    "    if len(trimmed_grades) == 0:\n",
    "        return None\n",
    "    else:\n",
    "        return sum(trimmed_grades) / len(trimmed_grades)"
   ]
  }
 ],
 "metadata": {
  "kernelspec": {
   "display_name": "Python 3 (ipykernel)",
   "language": "python",
   "name": "python3"
  },
  "language_info": {
   "codemirror_mode": {
    "name": "ipython",
    "version": 3
   },
   "file_extension": ".py",
   "mimetype": "text/x-python",
   "name": "python",
   "nbconvert_exporter": "python",
   "pygments_lexer": "ipython3",
   "version": "3.12.4"
  }
 },
 "nbformat": 4,
 "nbformat_minor": 5
}
