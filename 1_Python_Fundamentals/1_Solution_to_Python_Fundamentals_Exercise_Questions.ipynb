{
 "cells": [
  {
   "cell_type": "markdown",
   "id": "d227df39",
   "metadata": {},
   "source": [
    "\n",
    "# Solutions to Python Fundamental Coding Questions"
   ]
  },
  {
   "cell_type": "markdown",
   "id": "ed5bdc31",
   "metadata": {
    "tags": []
   },
   "source": [
    "## 1. Print Numbers from 1 to 5 Using a For Loop\n",
    "This code uses a for loop and the range function to print numbers from 1 to 5."
   ]
  },
  {
   "cell_type": "code",
   "execution_count": null,
   "id": "b2f96bd0-0791-4696-8db1-2280571fd56a",
   "metadata": {},
   "outputs": [],
   "source": [
    "for number in range(1, 6):\n",
    "    print(number)  # print the current number"
   ]
  },
  {
   "cell_type": "markdown",
   "id": "b30f25b3",
   "metadata": {},
   "source": [
    "## 2. Print Numbers from 1 to 5 Using a While Loop\n",
    "This code uses a while loop to print numbers from 1 to 5."
   ]
  },
  {
   "cell_type": "code",
   "execution_count": null,
   "id": "3e0ccfaf-921f-426b-8e42-12d6d6c15cc3",
   "metadata": {},
   "outputs": [],
   "source": [
    "count = 1         # initialize a counter\n",
    "while count <= 5:\n",
    "    print(count)  # print the current count\n",
    "    count += 1    # add 1 to the counter"
   ]
  },
  {
   "cell_type": "markdown",
   "id": "a709cf76-f956-4859-bae0-a7f9b2475020",
   "metadata": {},
   "source": [
    "## 3. Print Each Character in a String\n",
    "This code uses a for loop to print each character in the string \"Hello DC\"."
   ]
  },
  {
   "cell_type": "code",
   "execution_count": null,
   "id": "231cc05f-11c8-4b20-924e-b5335ed80b5f",
   "metadata": {
    "jp-MarkdownHeadingCollapsed": true,
    "tags": []
   },
   "outputs": [],
   "source": [
    "my_string = \"Hello DC\"\n",
    "for char in my_string:\n",
    "    print(char)        # print the current character"
   ]
  },
  {
   "cell_type": "markdown",
   "id": "3e8388a0-1e98-4e75-bac2-d73f89645a3c",
   "metadata": {},
   "source": [
    "## 4. Check if a Number is Positive or Negative\n",
    "This code accepts a number from the user and checks if it is positive or negative."
   ]
  },
  {
   "cell_type": "code",
   "execution_count": null,
   "id": "1c4d4c60-7e54-4a05-8755-411b981106b8",
   "metadata": {},
   "outputs": [],
   "source": [
    "number = float(input(\"Enter a number: \"))  # convert input to a float\n",
    "if number > 0:\n",
    "    print(\"Positive\")       \n",
    "else:\n",
    "    print(\"Not Positive\")"
   ]
  },
  {
   "cell_type": "markdown",
   "id": "509d860a-6f77-4c2b-8413-180e59f6c8aa",
   "metadata": {},
   "source": [
    "## 5. Calculate the Sum of All Numbers from 1 to 10\n",
    "This code uses a for loop to calculate the sum of numbers from 1 to 10."
   ]
  },
  {
   "cell_type": "code",
   "execution_count": null,
   "id": "976824dd-b9c5-42e2-9a53-ea9d950caeda",
   "metadata": {},
   "outputs": [],
   "source": [
    "total_sum = 0   # variable to keep the total sum\n",
    "for number in range(1, 11):\n",
    "    total_sum += number            # add the current number to the total sum\n",
    "print(f'The sum is: {total_sum}')  # print the total sum after finishing addition"
   ]
  },
  {
   "cell_type": "markdown",
   "id": "37d838f8",
   "metadata": {},
   "source": [
    "## 6. Generate 5 Random Integers Between 1 and 10\n",
    "This code generates five random integers between 1 and 10 using a for loop."
   ]
  },
  {
   "cell_type": "code",
   "execution_count": null,
   "id": "e159f8d2-357e-4306-99af-ad7661919f80",
   "metadata": {},
   "outputs": [],
   "source": [
    "import random  # import the random module\n",
    "for _ in range(5):  # loop 5 times. Remember that _ is a valid identifier\n",
    "    random_number = random.randint(1, 10)  # generate a random integer\n",
    "    print(random_number)  # print the latest generated random integer"
   ]
  },
  {
   "cell_type": "markdown",
   "id": "f42f4e54",
   "metadata": {},
   "source": [
    "## 7. While Loop Generating Random Numbers\n",
    "This code generates random numbers between 0 and 1 until one is greater than 0.8."
   ]
  },
  {
   "cell_type": "code",
   "execution_count": null,
   "id": "c6a1f3d2-d68c-4f51-9637-af7f6c761e46",
   "metadata": {},
   "outputs": [],
   "source": [
    "import random  \n",
    "random_number = 0  # initialize\n",
    "while random_number <= 0.8:           # as long as the last generated random number <= 0.8\n",
    "    random_number = random.random()   # keep generating random numbers\n",
    "    print(f'Generated number: {random_number}')  "
   ]
  },
  {
   "cell_type": "markdown",
   "id": "35b86942",
   "metadata": {},
   "source": [
    "## 8. User's Name Check"
   ]
  },
  {
   "cell_type": "code",
   "execution_count": null,
   "id": "13c00e0e-95ef-4567-bddc-bb4c561fa6f6",
   "metadata": {},
   "outputs": [],
   "source": [
    "name = input(\"Enter your name: \")  # get the name from user input\n",
    "\n",
    "if name.startswith(\"A\"):\n",
    "    print(\"Your name starts with A.\")  \n",
    "elif name.startswith(\"B\"):\n",
    "    print(\"Your name starts with B.\")  \n",
    "else:\n",
    "    first_letter = name[0]  # first letter of the name\n",
    "    print(f'Your name starts with {first_letter}.') "
   ]
  },
  {
   "cell_type": "markdown",
   "id": "a43806c8",
   "metadata": {},
   "source": [
    "## 9. Print Squares of Numbers from 1 to 10\n",
    "This code uses a for loop to print the squares of numbers from 1 to 10."
   ]
  },
  {
   "cell_type": "code",
   "execution_count": null,
   "id": "b3eb5f19-65c7-4fc0-ac06-46d4f8006520",
   "metadata": {},
   "outputs": [],
   "source": [
    "for number in range(1, 11):\n",
    "    square = number ** 2  # calculate the square of the number\n",
    "    print(f'The square of {number} is {square}.')"
   ]
  },
  {
   "cell_type": "markdown",
   "id": "22817f59",
   "metadata": {},
   "source": [
    "## 10. Even or Odd Number Check\n",
    "This code checks if a number is even or odd based on user input."
   ]
  },
  {
   "cell_type": "code",
   "execution_count": null,
   "id": "5fe5d689-1faa-4f17-bd4b-5ac29d81eb76",
   "metadata": {},
   "outputs": [],
   "source": [
    "number = int(input(\"Enter a number: \"))  \n",
    "\n",
    "if number % 2 == 0:\n",
    "    print(\"Even\")  # if the number is even\n",
    "else:\n",
    "    print(\"Odd\")  # if the number is odd"
   ]
  },
  {
   "cell_type": "markdown",
   "id": "e08b4851",
   "metadata": {},
   "source": [
    "## 11. Print Every Third Character\n",
    "This code prints every third character of a given string."
   ]
  },
  {
   "cell_type": "code",
   "execution_count": null,
   "id": "0e5230d6-cafa-43f6-97f8-8b56cb028d24",
   "metadata": {},
   "outputs": [],
   "source": [
    "my_string = \"Python Programming is fun!\"\n",
    "\n",
    "for index in range(0, len(my_string), 3):  # step size of 3\n",
    "    char = my_string[index]  # character at the current index\n",
    "    print(f'Character at index {index}: {char}')  "
   ]
  },
  {
   "cell_type": "markdown",
   "id": "ca766b93",
   "metadata": {},
   "source": [
    "## 12. Generate Random Floating Point Number\n",
    "This snippet generates a random floating-point number between 0 and 10 and rounds it."
   ]
  },
  {
   "cell_type": "code",
   "execution_count": null,
   "id": "c1b489e1-b4cf-42dc-ac04-da6c8e749046",
   "metadata": {},
   "outputs": [],
   "source": [
    "import random \n",
    "\n",
    "random_float = random.uniform(0, 10)  # random number\n",
    "rounded_float = round(random_float, 2)  # round to 2 decimal places\n",
    "print(f'Generated random floating-point number: {rounded_float}')  "
   ]
  },
  {
   "cell_type": "markdown",
   "id": "253094c8",
   "metadata": {},
   "source": [
    "## 13. Check if Word Contains 'e'\n",
    "This code checks if the user-entered word contains the letter 'e'."
   ]
  },
  {
   "cell_type": "code",
   "execution_count": null,
   "id": "6fea17ac-e89c-449d-8edc-d7e9a6fa85b2",
   "metadata": {},
   "outputs": [],
   "source": [
    "word = input(\"Enter a word: \")  # get the word from user \n",
    "\n",
    "if 'e' in word:\n",
    "    print(\"Contains 'e'\")  \n",
    "else:\n",
    "    print(\"Does not contain 'e'\")  "
   ]
  },
  {
   "cell_type": "markdown",
   "id": "09968b4b",
   "metadata": {},
   "source": [
    "## 14. Cumulative Sum Until 0\n",
    "This code calculates the cumulative sum of user-entered numbers until the user enters 0."
   ]
  },
  {
   "cell_type": "code",
   "execution_count": null,
   "id": "bac5b34a-3e85-4ad3-8e1a-aa3950dc8b0c",
   "metadata": {},
   "outputs": [],
   "source": [
    "cumulative_sum = 0  # initialize sum at 0\n",
    "number = float(input(\"Enter a number (0 to stop): \"))  # get the first number\n",
    "while number != 0:  # continue until the user enters 0\n",
    "    cumulative_sum += number  # add to cumulative sum\n",
    "    number = float(input(\"Enter a number (0 to stop): \"))  # Get the next number from user\n",
    "\n",
    "print(f'The cumulative sum is: {cumulative_sum}') "
   ]
  },
  {
   "cell_type": "markdown",
   "id": "7453cd1a",
   "metadata": {},
   "source": [
    "## 15. Celsius to Fahrenheit Conversion\n",
    "This code asks for a temperature in Celsius and converts it to Fahrenheit."
   ]
  },
  {
   "cell_type": "code",
   "execution_count": null,
   "id": "2356989e-7b38-4f4d-bfff-bc0f1aa46ddb",
   "metadata": {},
   "outputs": [],
   "source": [
    "celsius = float(input(\"Enter temperature in Celsius: \"))  # get Celsius from user\n",
    "\n",
    "fahrenheit = celsius * (9 / 5) + 32  # convert to Fahrenheit\n",
    "print(f'Temperature in Fahrenheit: {fahrenheit}')  "
   ]
  },
  {
   "cell_type": "markdown",
   "id": "ced3b0a7",
   "metadata": {},
   "source": [
    "## 16. Difference between `=` and `==`\n",
    "The single equals sign (`=`) is used for assignment, while double equals (`==`) is used for comparison. Here is an example:"
   ]
  },
  {
   "cell_type": "code",
   "execution_count": null,
   "id": "f808bd3f-2896-42e2-ae6e-32cd6aba1407",
   "metadata": {},
   "outputs": [],
   "source": [
    "x = 5       # assigns 5 to x\n",
    "if x == 5:  # compares x to 5\n",
    "    print(\"x is equal to 5.\")"
   ]
  },
  {
   "cell_type": "markdown",
   "id": "c2e438b5",
   "metadata": {},
   "source": [
    "## 17. Check Equality of 4 Numbers\n",
    "This snippet accepts four numbers from the user and checks if they are all equal."
   ]
  },
  {
   "cell_type": "code",
   "execution_count": null,
   "id": "423e609b-cd66-409d-a85e-9fe82d44bcf8",
   "metadata": {},
   "outputs": [],
   "source": [
    "num1 = float(input(\"Enter first number: \"))   # first number\n",
    "num2 = float(input(\"Enter second number: \"))  # second number\n",
    "num3 = float(input(\"Enter third number: \"))   # third number\n",
    "num4 = float(input(\"Enter fourth number: \"))  # fourth number\n",
    "\n",
    "if num1 == num2 == num3 == num4:  # we have not seen this in the handout\n",
    "    print(\"all equal\")  \n",
    "else:\n",
    "    print(\"not equal\")  "
   ]
  },
  {
   "cell_type": "markdown",
   "id": "2e6a7dae",
   "metadata": {},
   "source": [
    "## 18. Generate 16 Uniform Random Numbers\n",
    "This code generates 16 uniform random numbers between 0 and 1."
   ]
  },
  {
   "cell_type": "code",
   "execution_count": null,
   "id": "70c7b115-e9f1-4f1e-b9f3-9587e6b2c6c0",
   "metadata": {},
   "outputs": [],
   "source": [
    "import random  \n",
    "for _ in range(16):  \n",
    "    random_number = random.random()  # Generate a random number\n",
    "    print(f'Random number {_ + 1}: {random_number}')  "
   ]
  },
  {
   "cell_type": "markdown",
   "id": "641954dc",
   "metadata": {},
   "source": [
    "## 19. Generate 10,000 Uniform Random Numbers and Analyze Them\n",
    "These snippets generate 10,000 uniform random numbers between 0 and 1 and calculate their sum, average, minimum, and maximum."
   ]
  },
  {
   "cell_type": "markdown",
   "id": "7da81610-22bb-4538-9a6b-7dd915526a30",
   "metadata": {},
   "source": [
    "### (First) solution without relying on a `list` "
   ]
  },
  {
   "cell_type": "code",
   "execution_count": null,
   "id": "0d0d4be7-1e1d-4178-8695-09598dea92b4",
   "metadata": {},
   "outputs": [],
   "source": [
    "import random\n",
    "\n",
    "print('Method 1 without using a list')\n",
    "count = 10_000  # total numbers to generate\n",
    "\n",
    "sum_numbers = 0                      #  initial Sum of numbrserate\n",
    "minimum = 1                          # Start with the highest possible minimum\n",
    "maximum = 0                          # Start with the lowest possible maximum\n",
    "for _ in range(count):               # Loop 10_000 times\n",
    "    random_number = random.random()\n",
    "    sum_numbers += random_number     # Add the number to the sum\n",
    "\n",
    "    # possibly update minimum and maximum\n",
    "    if random_number < minimum:\n",
    "        minimum = random_number  # Update minimum if current number is lower\n",
    "    if random_number > maximum:\n",
    "        maximum = random_number  # Update maximum if current number is higher\n",
    "\n",
    "# Print results\n",
    "print(f'Sum: {sum_numbers:.7f}')  \n",
    "print(f'Average: {sum_numbers / count:0.7f}')\n",
    "print(f'Minimum: {minimum:.7f}') \n",
    "print(f'Maximum: {maximum:.7f}') \n"
   ]
  },
  {
   "cell_type": "markdown",
   "id": "82d4859b-0da6-4d2d-a1a1-a46ebd4c3458",
   "metadata": {},
   "source": [
    "### (Second) solution using a `list`"
   ]
  },
  {
   "cell_type": "code",
   "execution_count": null,
   "id": "9bd862aa-b6d2-4c08-9875-0e2ffa5a4d49",
   "metadata": {},
   "outputs": [],
   "source": [
    "\n",
    "print('Method  without using a list (and a different set of random numbers)')\n",
    "count = 10_000   # Total numbers to generate\n",
    "numbers = []     # List to store numbers between 0 and 1\n",
    "for _ in range(count):  # Loop 10_000 times\n",
    "    random_number = random.random()  # Generate a random number\n",
    "    numbers.append(random_number)  # store the random numbers\n",
    "\n",
    "print(f'Sum: {sum(numbers):.7f}')  \n",
    "print(f'Average: {sum(numbers) / count:.7f}')  \n",
    "print(f'Minimum: {min(numbers):.7f}') \n",
    "print(f'Maximum: {max(numbers):.7f}')"
   ]
  },
  {
   "cell_type": "markdown",
   "id": "7c1ea2d2",
   "metadata": {},
   "source": [
    "## 20. Generate 5000 Uniform Random Numbers\n",
    "This code generates 5000 uniform random numbers between 0 and 1 and prints those greater than 0.5."
   ]
  },
  {
   "cell_type": "code",
   "execution_count": null,
   "id": "26b2853c-db10-4c9d-b73c-80966beaf172",
   "metadata": {},
   "outputs": [],
   "source": [
    "import random  \n",
    "count_greater_than_half = 0  # counter\n",
    "for _ in range(5_000):       # loop 5_000 times\n",
    "    random_number = random.random()  # generate a random number\n",
    "    if random_number > 0.5:  \n",
    "        print(f'Number greater than 0.5: {random_number}')  \n",
    "        count_greater_than_half += 1  # increment the counter"
   ]
  },
  {
   "cell_type": "markdown",
   "id": "7ba2044c",
   "metadata": {},
   "source": [
    "## 21. Generate Standard Normal Random Numbers Using U1 and U2\n",
    "This code generates standard normal random numbers using the specified formulas."
   ]
  },
  {
   "cell_type": "markdown",
   "id": "356bb5ab",
   "metadata": {},
   "source": [
    "### 21.a Generate Two Standard Normal Random Numbers"
   ]
  },
  {
   "cell_type": "code",
   "execution_count": null,
   "id": "5767e5c4-6ac3-4194-ae44-377fe61c1503",
   "metadata": {},
   "outputs": [],
   "source": [
    "import random  \n",
    "import math  # import the math module\n",
    "\n",
    "U1 = random.random()  # uniform random number\n",
    "U2 = random.random()  # uniform random number\n",
    "\n",
    "Z1 = math.sqrt(-2 * math.log(U1)) * math.cos(2 * math.pi * U2)  # first standard normal random number\n",
    "Z2 = math.sqrt(-2 * math.log(U1)) * math.sin(2 * math.pi * U2)  # second standard normal random number\n",
    "\n",
    "print(f'Generated standard normal random numbers: Z1 = {Z1:.7f}, Z2 = {Z2:.7f}')\n"
   ]
  },
  {
   "cell_type": "markdown",
   "id": "9e1d3112",
   "metadata": {},
   "source": [
    "### 21.b Generate 20 Standard Normal Random Numbers"
   ]
  },
  {
   "cell_type": "code",
   "execution_count": null,
   "id": "f2270a30-d724-495b-bbbe-3c2f02265146",
   "metadata": {},
   "outputs": [],
   "source": [
    "import random  \n",
    "import math\n",
    "for _ in range(20):  # loop 20 times\n",
    "    U1 = random.random()  # generate uniform random number\n",
    "    U2 = random.random()  # generate uniform random number\n",
    "    Z = math.sqrt(-2 * math.log(U1)) * math.cos(2 * math.pi * U2)  \n",
    "    # calculate one standard normal random number\n",
    "    print(f'{_ + 1}: {Z:.7f}')  # print the results"
   ]
  },
  {
   "cell_type": "markdown",
   "id": "1beada17",
   "metadata": {},
   "source": [
    "### 21.c Generate 2000 Standard Normal Random Numbers and Count Positives"
   ]
  },
  {
   "cell_type": "markdown",
   "id": "f7b8d5b6",
   "metadata": {},
   "source": [
    "```python\n",
    "import random  \n",
    "import math"
   ]
  },
  {
   "cell_type": "code",
   "execution_count": null,
   "id": "74817c00-574c-4f86-ba7c-4c67f02e18e3",
   "metadata": {},
   "outputs": [],
   "source": [
    "import random  \n",
    "import math\n",
    "\n",
    "counter = 0\n",
    "for _ in range(2000):     # loop 2_000 times\n",
    "    U1 = random.random()  \n",
    "    U2 = random.random()  \n",
    "    Z = math.sqrt(-2 * math.log(U1)) * math.cos(2 * math.pi * U2)  # standard normal random number\n",
    "    if Z > 0:         # if the number is positive\n",
    "        counter += 1  # increment the counter\n",
    "\n",
    "print(f'Number of positive standard normal random numbers: {counter}')"
   ]
  },
  {
   "cell_type": "markdown",
   "id": "649d2002",
   "metadata": {},
   "source": [
    "### 21.d Generate Until First Number > 3"
   ]
  },
  {
   "cell_type": "markdown",
   "id": "b18e25c3",
   "metadata": {},
   "source": [
    "```python\n",
    "import random  \n",
    "import math"
   ]
  },
  {
   "cell_type": "code",
   "execution_count": null,
   "id": "51e00805-4641-43ee-93a0-7f7b6b62c672",
   "metadata": {},
   "outputs": [],
   "source": [
    "import random  \n",
    "import math\n",
    "\n",
    "counter = 0  # counter\n",
    "keep_going = True\n",
    "while keep_going  == True:\n",
    "    U1 = random.random()  \n",
    "    U2 = random.random()  \n",
    "    Z = math.sqrt(-2 * math.log(U1)) * math.cos(2 * math.pi * U2)  \n",
    "    # alternatively, you can use Z = random.normalvariate(0, 1)\n",
    "    counter += 1  # increment the counter\n",
    "    if Z > 3:  \n",
    "        keep_going  = False  # terminate the loop\n",
    "\n",
    "print(f'Numbers generated to get first number greater than 3: {counter}')"
   ]
  },
  {
   "cell_type": "markdown",
   "id": "53304d92",
   "metadata": {},
   "source": [
    "### 21.e Generate Until 5 Numbers < -2.5 or > 2.5"
   ]
  },
  {
   "cell_type": "code",
   "execution_count": null,
   "id": "5800d922-6bac-4ff3-ac9a-e8caecf15583",
   "metadata": {},
   "outputs": [],
   "source": [
    "import random  \n",
    "import math\n",
    "\n",
    "counter = 0        # counter for total numbers generated\n",
    "found_numbers = 0  # counter for how many numbers <-2.5 or > 2.5\n",
    "while found_numbers < 5:    # loop until 5 numbers found\n",
    "    U1 = random.random()  \n",
    "    U2 = random.random()  \n",
    "    Z = math.sqrt(-2 * math.log(U1)) * math.cos(2 * math.pi * U2)  \n",
    "    counter += 1     # increment total count\n",
    "    if Z < -2.5 or Z > 2.5:  # check criteria\n",
    "        found_numbers += 1  # increment found counter\n",
    "\n",
    "print(f'Total numbers generated to find 5 numbers < -2.5 or > 2.5: {counter}')"
   ]
  },
  {
   "cell_type": "markdown",
   "id": "a56a97b7",
   "metadata": {},
   "source": [
    "## 22. Understanding Boolean Values in Python\n",
    "This code demonstrates how Python treats `True` and `False` as `1` and `0` in arithmetic operations."
   ]
  },
  {
   "cell_type": "code",
   "execution_count": null,
   "id": "682cee1b-1a17-40f3-bf6d-f817b7f9b303",
   "metadata": {},
   "outputs": [],
   "source": [
    "print(f'True + True = {True + True}')      # expected: 2\n",
    "print(f'True + False = {True + False}')    # expected: 1\n",
    "print(f'False + False = {False + False}')  # expected: 0\n",
    "print(f'True * 5 = {True * 5}')            # expected: 5\n",
    "print(f'True > False = {True > False}')    # expected: True\n"
   ]
  },
  {
   "cell_type": "markdown",
   "id": "71259f1e",
   "metadata": {},
   "source": [
    "### Observations\n",
    "- `True` is treated as `1` and `False` as `0`, which is why they can be used in arithmetic calculations.\n",
    "- When adding, `True + True` results in `2`, `True + False` results in `1`, and `False + False` results in `0`.\n",
    "- Multiplying `True` by any number gives that number because `True` is treated as `1`.\n",
    "- The expression `True > False` evaluates to `True` because `1 > 0`. "
   ]
  },
  {
   "cell_type": "markdown",
   "id": "824bdf9b",
   "metadata": {},
   "source": [
    "## 23. Using Built-in Function Names as Variables\n",
    "This code demonstrates the problem of using built-in function names as variable names."
   ]
  },
  {
   "cell_type": "code",
   "execution_count": null,
   "id": "7bd262c6-dbee-4625-a099-4bd0269cb9c2",
   "metadata": {},
   "outputs": [],
   "source": [
    "num_1 = 5\n",
    "num_2 = 6\n",
    "sum = num_1 + num_2  # this overwrites the built-in sum() function\n",
    "print(sum)           # this will print the value 11"
   ]
  },
  {
   "cell_type": "markdown",
   "id": "b37009f6-e4f0-4f6b-bb15-c8e684206e32",
   "metadata": {},
   "source": [
    "# trying to use sum() as a function now leads to an error"
   ]
  },
  {
   "cell_type": "code",
   "execution_count": null,
   "id": "b2afef38-e5a1-4515-9a8e-1fd2749b1ae6",
   "metadata": {
    "jp-MarkdownHeadingCollapsed": true
   },
   "outputs": [],
   "source": [
    "print(sum(1, 3))  # this will raise a TypeError"
   ]
  },
  {
   "cell_type": "markdown",
   "id": "7f04fb3c",
   "metadata": {},
   "source": [
    "### Reason for TypeError\n",
    "- The variable `sum` was used to store a numeric value (the sum of `num_1` and `num_2`).\n",
    "- As a result, it overwrites the built-in `sum()` function. When trying to call `sum(1, 3)`, Python raises a `TypeError` because `sum` is now an integer, not a callable function."
   ]
  },
  {
   "cell_type": "markdown",
   "id": "a4de4f82",
   "metadata": {},
   "source": [
    "## 24. Comparing Strings in Python\n",
    "This code compares two strings using comparison operators."
   ]
  },
  {
   "cell_type": "code",
   "execution_count": null,
   "id": "8223ae33-202b-4c7a-99ff-44ab14ca2a61",
   "metadata": {},
   "outputs": [],
   "source": [
    "s_1 = \"Adams\"\n",
    "s_2 = \"James\"\n",
    "s_3 = \"Zara\"\n",
    "print(f'{s_1} < {s_2} results in {s_1 < s_2}')  \n",
    "print(f'{s_3} < {s_2} results in {s_3 > s_2}')  "
   ]
  },
  {
   "cell_type": "markdown",
   "id": "1f77e6cc",
   "metadata": {},
   "source": [
    "### Observations on String Comparison\n",
    "- In the first comparison, \"Adams\" is less than \"James\" because it comes before it in alphabetical order (\"A\" comes before \"J\").\n",
    "- In the second comparison, \"Zara\" is greater than \"James\", resulting in `False` for the expression since \"Z\" comes after \"J\" in the alphabet."
   ]
  },
  {
   "cell_type": "markdown",
   "id": "0fcb3fb5",
   "metadata": {},
   "source": [
    "## 25. Using the `Decimal` Data Type to Multiply 0.1 by 3\n",
    "This code demonstrates the use of the Decimal data type for precise calculations."
   ]
  },
  {
   "cell_type": "code",
   "execution_count": null,
   "id": "a5035709-88c6-4c03-b0d6-eed63bc778cb",
   "metadata": {},
   "outputs": [],
   "source": [
    "from decimal import Decimal  # import the Decimal class from decimal module\n",
    "\n",
    "result = Decimal('0.1') * Decimal('3')\n",
    "print(f'The exact result of 0.1 multiplied by 3 is: {result}')\n"
   ]
  },
  {
   "cell_type": "markdown",
   "id": "dd618bef",
   "metadata": {},
   "source": [
    "## 26. Compound Interest Calculation Using `Decimal`\n",
    "This code calculates the compounded value of an investment using the `Decimal` type."
   ]
  },
  {
   "cell_type": "code",
   "execution_count": null,
   "id": "5fb41484-678a-4bee-9bfa-3a3dc6fbe1b2",
   "metadata": {},
   "outputs": [],
   "source": [
    "from decimal import Decimal  \n",
    "\n",
    "# parameters\n",
    "P = Decimal('1000')   # principal\n",
    "r = Decimal('0.045')  # annual interest rate\n",
    "n = Decimal('12')     # compounding periods per year\n",
    "t = Decimal('5')      # time in years\n",
    "\n",
    "A = P * (1 + r / n) ** (n * t)  # amount after interest\n",
    "print(f'The compounded value of the investment: {A}') "
   ]
  }
 ],
 "metadata": {
  "kernelspec": {
   "display_name": "Python 3 (ipykernel)",
   "language": "python",
   "name": "python3"
  },
  "language_info": {
   "codemirror_mode": {
    "name": "ipython",
    "version": 3
   },
   "file_extension": ".py",
   "mimetype": "text/x-python",
   "name": "python",
   "nbconvert_exporter": "python",
   "pygments_lexer": "ipython3",
   "version": "3.12.4"
  }
 },
 "nbformat": 4,
 "nbformat_minor": 5
}
