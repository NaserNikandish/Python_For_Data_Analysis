{
 "cells": [
  {
   "cell_type": "code",
   "execution_count": null,
   "id": "5419d3f1",
   "metadata": {},
   "outputs": [],
   "source": [
    "## Q1: Product of numbers 7 and 8\n",
    "print(7 * 8)"
   ]
  },
  {
   "cell_type": "code",
   "execution_count": null,
   "id": "53eecb62",
   "metadata": {},
   "outputs": [],
   "source": [
    "## Q2: Divide 10 by 3 and print remainder\n",
    "print(10 % 3)"
   ]
  },
  {
   "cell_type": "code",
   "execution_count": null,
   "id": "634d2f9e",
   "metadata": {},
   "outputs": [],
   "source": [
    "## Q3: Check if 5 is even or odd\n",
    "print('Odd' if 5 % 2 != 0 else 'Even')\n",
    "# above is a one line solution; you can write it in several lines \n",
    "# using a regular if as follows\n",
    "if 5 % 2 != 0:\n",
    "    print('Odd')\n",
    "else:\n",
    "    print('Even')"
   ]
  },
  {
   "cell_type": "code",
   "execution_count": null,
   "id": "b58003d4",
   "metadata": {},
   "outputs": [],
   "source": [
    "## Q4: Square root of 16\n",
    "print(16 ** 0.5)"
   ]
  },
  {
   "cell_type": "code",
   "execution_count": null,
   "id": "0009525c",
   "metadata": {},
   "outputs": [],
   "source": [
    "## Q5: Area of circle with radius 5\n",
    "print(3.14159 * (5 ** 2))\n",
    "# Alternatively, you can write\n",
    "import math\n",
    "print(math.pi * (5 ** 2))"
   ]
  },
  {
   "cell_type": "code",
   "execution_count": null,
   "id": "3d7a8bfb",
   "metadata": {},
   "outputs": [],
   "source": [
    "## Q6: Area of triangle with base 10 and height 5\n",
    "print(0.5 * 10 * 5)"
   ]
  },
  {
   "cell_type": "code",
   "execution_count": null,
   "id": "ba63d480",
   "metadata": {},
   "outputs": [],
   "source": [
    "## Q7: Length of 'Hello, BARM!'\n",
    "print(len('Hello, BARM!'))"
   ]
  },
  {
   "cell_type": "code",
   "execution_count": null,
   "id": "fc732025",
   "metadata": {},
   "outputs": [],
   "source": [
    "## Q8: Convert 'Business' to uppercase\n",
    "print('Business'.upper())"
   ]
  },
  {
   "cell_type": "code",
   "execution_count": null,
   "id": "9f7bb364",
   "metadata": {},
   "outputs": [],
   "source": [
    "## Q9: Convert 'PYTHON' to lowercase\n",
    "print('PYTHON'.lower())"
   ]
  },
  {
   "cell_type": "code",
   "execution_count": null,
   "id": "fc5d353b",
   "metadata": {},
   "outputs": [],
   "source": [
    "## Q10: Check if '12345' is a digit\n",
    "print('12345'.isdigit())"
   ]
  },
  {
   "cell_type": "code",
   "execution_count": null,
   "id": "ad4cae72",
   "metadata": {},
   "outputs": [],
   "source": [
    "## Q11: Find first occurrence of 'python'\n",
    "string = 'I love python programming in Python for Data Analysis course'\n",
    "print(string.lower().find('python'))  # this is the fancy solution\n",
    "\n",
    "\n",
    "# Here is a simpler and longer solution\n",
    "string = 'I love python programming in Python for Data Analysis course'\n",
    "\n",
    "# Convert to lowercase and split the sentence\n",
    "words = string.lower().split()\n",
    "\n",
    "# Iterate over the words to find the index of 'python'\n",
    "index = None\n",
    "for i, word in enumerate(words):\n",
    "    if word == 'python':\n",
    "        index = string.lower().index(word)  # Get the starting position of 'python' in the original string\n",
    "        break\n",
    "\n",
    "print(index)"
   ]
  },
  {
   "cell_type": "code",
   "execution_count": null,
   "id": "dfbddda0",
   "metadata": {},
   "outputs": [],
   "source": [
    "## Q12: Replace 'a' with '@' in 'banana'\n",
    "print('banana'.replace('a', '@'))"
   ]
  },
  {
   "cell_type": "code",
   "execution_count": null,
   "id": "04bc2fe3",
   "metadata": {},
   "outputs": [],
   "source": [
    "## Q13: Check if 'radar' is palindrome\n",
    "print('radar' == 'radar'[::-1])"
   ]
  },
  {
   "cell_type": "code",
   "execution_count": null,
   "id": "e18f15b8",
   "metadata": {},
   "outputs": [],
   "source": [
    "## Q14: Reverse 'python'\n",
    "print('python'[::-1])"
   ]
  },
  {
   "cell_type": "code",
   "execution_count": null,
   "id": "29e8cf6f",
   "metadata": {},
   "outputs": [],
   "source": [
    "## Q15: Extract domain from email\n",
    "email = 'naser.nikandish@jhu.edu'\n",
    "print(email.split('@')[1].upper())"
   ]
  },
  {
   "cell_type": "code",
   "execution_count": null,
   "id": "871c569d",
   "metadata": {},
   "outputs": [],
   "source": [
    "## Q16: Split and find longest word\n",
    "words = 'World of Python Java C Rubi Julia'.split()\n",
    "print(max(words, key=len)) # Yes! max can also accept key"
   ]
  },
  {
   "cell_type": "code",
   "execution_count": null,
   "id": "e29de90a",
   "metadata": {},
   "outputs": [],
   "source": [
    "## Q17: Remove duplicate words\n",
    "text = 'Python for Data Analysis, Data Analytics, Business Analytics'\n",
    "temp = text.lower()\n",
    "words = temp.replace(',', '').split()  # Remove commas and split into words\n",
    "\n",
    "# Create a list of unique words without using fromkeys\n",
    "unique_words = []\n",
    "for word in words:\n",
    "    if word not in unique_words:\n",
    "        unique_words.append(word)\n",
    "\n",
    "print(' '.join(unique_words))"
   ]
  },
  {
   "cell_type": "code",
   "execution_count": null,
   "id": "3c9bb564",
   "metadata": {},
   "outputs": [],
   "source": [
    "## Q18: Length of list [1, 2, 3, 4, 5]\n",
    "print(len([1, 2, 3, 4, 5]))"
   ]
  },
  {
   "cell_type": "code",
   "execution_count": null,
   "id": "da40aa5b",
   "metadata": {},
   "outputs": [],
   "source": [
    "## Q19: Add 6 to list [1, 2, 3, 4, 5]\n",
    "list1 = [1, 2, 3, 4, 5]\n",
    "list1.append(6)\n",
    "print(list1)"
   ]
  },
  {
   "cell_type": "code",
   "execution_count": null,
   "id": "90ee8f3e",
   "metadata": {},
   "outputs": [],
   "source": [
    "## Q20: Insert 0 at third position\n",
    "list1 = [1, 2, 3, 4, 5]\n",
    "list1.insert(2, 0)\n",
    "print(list1)"
   ]
  },
  {
   "cell_type": "code",
   "execution_count": null,
   "id": "0c2f6cbd",
   "metadata": {},
   "outputs": [],
   "source": [
    "## Q21: Remove last element from list\n",
    "list1 = [1, 2, 3, 4, 5]\n",
    "list1.pop()  # you can do del list1[-1]\n",
    "print(list1)"
   ]
  },
  {
   "cell_type": "code",
   "execution_count": null,
   "id": "8035d7ec",
   "metadata": {},
   "outputs": [],
   "source": [
    "## Q22: Max and min of list\n",
    "list2 = [3, 1, 4, 1, 5, 9, 2, 6]\n",
    "print(max(list2), min(list2))"
   ]
  },
  {
   "cell_type": "code",
   "execution_count": null,
   "id": "0cd513de",
   "metadata": {},
   "outputs": [],
   "source": [
    "## Q23: Find index of 3 in list\n",
    "list3 = [1, 2, 3, 4, 3, 5]\n",
    "print(list3.index(3))"
   ]
  },
  {
   "cell_type": "code",
   "execution_count": null,
   "id": "96166edc",
   "metadata": {},
   "outputs": [],
   "source": [
    "## Q24: Count occurrences of 3 in list\n",
    "print([1, 2, 3, 4, 3, 5].count(3))"
   ]
  },
  {
   "cell_type": "code",
   "execution_count": null,
   "id": "2c01b652",
   "metadata": {},
   "outputs": [],
   "source": [
    "## Q25: Sort list in ascending order\n",
    "list2 = [3, 1, 4, 1, 5, 9, 2, 6]\n",
    "list2.sort()\n",
    "print(list2)"
   ]
  },
  {
   "cell_type": "code",
   "execution_count": null,
   "id": "e7243fec",
   "metadata": {},
   "outputs": [],
   "source": [
    "## Q26: Reverse list\n",
    "list1 = [1, 2, 3, 4, 5]\n",
    "list1.reverse()\n",
    "print(list1)"
   ]
  },
  {
   "cell_type": "code",
   "execution_count": null,
   "id": "5d5b9b35",
   "metadata": {},
   "outputs": [],
   "source": [
    "## Q27: Indexes of max and min\n",
    "list2 = [3, 1, 4, 1, 5, 9, 2, 6]\n",
    "print(list2.index(max(list2)), list2.index(min(list2)))"
   ]
  },
  {
   "cell_type": "code",
   "execution_count": null,
   "id": "dcbc58e5",
   "metadata": {},
   "outputs": [],
   "source": [
    "## Q28: Remove duplicates\n",
    "print(list(set([1, 2, 2, 3, 4, 4, 5])))"
   ]
  },
  {
   "cell_type": "code",
   "execution_count": null,
   "id": "566b6975",
   "metadata": {
    "scrolled": true
   },
   "outputs": [],
   "source": [
    "## Q29: List of numbers 1-1000 divisible by 3 and 5\n",
    "print([num for num in range(1, 1001) if num % 3 == 0 and num % 5 == 0 and len(str(num)) % 2 == 0])\n",
    "\n",
    "# alternatively, you can do it without list comprehension as\n",
    "result = []\n",
    "for num in range(1, 1001):\n",
    "    if num % 3 == 0 and num % 5 == 0 and len(str(num)) % 2 == 0:\n",
    "        result.append(num)\n",
    "\n",
    "print(result)"
   ]
  },
  {
   "cell_type": "code",
   "execution_count": null,
   "id": "f5c9a652",
   "metadata": {},
   "outputs": [],
   "source": [
    "## Q30: Third element of tuple (1, 2, 3, 4, 5)\n",
    "tuple1 = (1, 2, 3, 4, 5)\n",
    "print(tuple1[2])"
   ]
  },
  {
   "cell_type": "code",
   "execution_count": null,
   "id": "d02729f8",
   "metadata": {},
   "outputs": [],
   "source": [
    "## Q31: Convert tuple to list\n",
    "print(list((1, 2, 3, 4, 5)))"
   ]
  },
  {
   "cell_type": "code",
   "execution_count": null,
   "id": "6e79af96",
   "metadata": {},
   "outputs": [],
   "source": [
    "## Q32: Convert list to tuple\n",
    "print(tuple([1, 2, 3, 4, 5]))"
   ]
  },
  {
   "cell_type": "code",
   "execution_count": null,
   "id": "49a9f357",
   "metadata": {},
   "outputs": [],
   "source": [
    "## Q33: Check if 3 in tuple\n",
    "print(3 in (1, 2, 3, 4, 5))"
   ]
  },
  {
   "cell_type": "code",
   "execution_count": null,
   "id": "227c06c7",
   "metadata": {},
   "outputs": [],
   "source": [
    "## Q34: Count occurrences of 2 in tuple\n",
    "print((1, 2, 3, 2, 4, 2, 5).count(2))"
   ]
  },
  {
   "cell_type": "code",
   "execution_count": null,
   "id": "a0cfd188",
   "metadata": {},
   "outputs": [],
   "source": [
    "## Q35: Index of 3 in tuple\n",
    "print((1, 2, 3, 4, 5).index(3))"
   ]
  },
  {
   "cell_type": "code",
   "execution_count": null,
   "id": "1d9e6d11",
   "metadata": {},
   "outputs": [],
   "source": [
    "## Q36: Unpack tuple (a, b, c, d)\n",
    "tuple2 = ('a', 'b', 'c', 'd')\n",
    "x, y, z, w = tuple2\n",
    "print(x, y, z, w)"
   ]
  },
  {
   "cell_type": "code",
   "execution_count": null,
   "id": "360329a9",
   "metadata": {},
   "outputs": [],
   "source": [
    "## Q37: Merge tuples\n",
    "print((1, 2, 3) + (4, 5, 6))"
   ]
  },
  {
   "cell_type": "code",
   "execution_count": null,
   "id": "759daf76",
   "metadata": {},
   "outputs": [],
   "source": [
    "## Q38: Function with *args\n",
    "\n",
    "def process_args(*args):\n",
    "    return sum(args), len(args), tuple(set(args))\n",
    "print(process_args(10, 20, 30, 10, 40))"
   ]
  },
  {
   "cell_type": "code",
   "execution_count": null,
   "id": "44188009",
   "metadata": {},
   "outputs": [],
   "source": [
    "## Q39: Create dictionary\n",
    "print({'apple': 1, 'banana': 2, 'cherry': 3})"
   ]
  },
  {
   "cell_type": "code",
   "execution_count": null,
   "id": "df184de9",
   "metadata": {},
   "outputs": [],
   "source": [
    "## Q40: Access 'banana' in dictionary\n",
    "fruit_dict = {'apple': 1, 'banana': 2, 'cherry': 3}\n",
    "print(fruit_dict['banana'])"
   ]
  },
  {
   "cell_type": "code",
   "execution_count": null,
   "id": "76dca995",
   "metadata": {},
   "outputs": [],
   "source": [
    "## Q41: Update 'apple' in dictionary\n",
    "fruit_dict = {'apple': 1, 'banana': 2, 'cherry': 3}\n",
    "fruit_dict['apple'] = 4\n",
    "print(fruit_dict)"
   ]
  },
  {
   "cell_type": "code",
   "execution_count": null,
   "id": "957edb1d-acf1-4c18-a1ee-219cfde3c8bb",
   "metadata": {},
   "outputs": [],
   "source": [
    "## Q42: Add a new key-value pair 'date': 4 to the dictionary and print the updated dictionary.\n",
    "dictionary = {'apple': 1, 'banana': 2, 'cherry': 3}\n",
    "dictionary['date'] = 4\n",
    "print(dictionary)"
   ]
  },
  {
   "cell_type": "code",
   "execution_count": null,
   "id": "0a460e7d-977b-4ee1-b98f-6627a423957d",
   "metadata": {},
   "outputs": [],
   "source": [
    "## Q43: Remove the key-value pair with key 'banana' from the dictionary and print the updated dictionary.\n",
    "dictionary = {'apple': 1, 'banana': 2, 'cherry': 3}\n",
    "dictionary.pop('banana')\n",
    "print(dictionary)"
   ]
  },
  {
   "cell_type": "code",
   "execution_count": null,
   "id": "b11524ca-e45f-45d5-a3bf-8de13aeff35e",
   "metadata": {},
   "outputs": [],
   "source": [
    "## Q44: Check if the key 'apple' exists in the dictionary and print the result.\n",
    "dictionary = {'apple': 1, 'banana': 2, 'cherry': 3}\n",
    "print('apple' in dictionary)"
   ]
  },
  {
   "cell_type": "code",
   "execution_count": null,
   "id": "a28c640d-135f-4969-b725-6f103dafa559",
   "metadata": {},
   "outputs": [],
   "source": [
    "## Q45: Print all the keys of the dictionary.\n",
    "dictionary = {'apple': 1, 'banana': 2, 'cherry': 3}\n",
    "print(dictionary.keys())"
   ]
  },
  {
   "cell_type": "code",
   "execution_count": null,
   "id": "774eec5f-133e-40fa-98c4-a8f7104ce346",
   "metadata": {},
   "outputs": [],
   "source": [
    "## Q46: Print all the values of the dictionary.\n",
    "dictionary = {'apple': 1, 'banana': 2, 'cherry': 3}\n",
    "print(dictionary.values())"
   ]
  },
  {
   "cell_type": "code",
   "execution_count": null,
   "id": "c1922216-3e2f-4361-b8d8-2a7fe1f56271",
   "metadata": {},
   "outputs": [],
   "source": [
    "## Q47: Merge two dictionaries and print the result.\n",
    "dict1 = {'apple': 1, 'banana': 2}\n",
    "dict2 = {'cherry': 3, 'date': 4}\n",
    "merged_dict = {**dict1, **dict2}\n",
    "print(merged_dict)"
   ]
  },
  {
   "cell_type": "code",
   "execution_count": null,
   "id": "f196c9f0-f1e2-4362-994b-98604d340588",
   "metadata": {},
   "outputs": [],
   "source": [
    "## Q48: Print names of students with grades above 85.\n",
    "grades = {\"John\": 82, \"Anna\": 90, \"George\": 67, \"Marry\": 92}\n",
    "for name, grade in grades.items():\n",
    "    if grade > 85:\n",
    "        print(name)"
   ]
  },
  {
   "cell_type": "code",
   "execution_count": null,
   "id": "c0be64ed-750a-4ec6-9e9d-0b590af42002",
   "metadata": {},
   "outputs": [],
   "source": [
    "## Q49: Merge dictionaries with overlapping keys, combining values in a list.\n",
    "dict1 = {\"a\": 1, \"b\": 2}\n",
    "dict2 = {\"b\": 3, \"c\": 4}\n",
    "merged_dict = {}\n",
    "for key in dict1.keys() | dict2.keys():\n",
    "    values = []\n",
    "    if key in dict1:\n",
    "        values.append(dict1[key])\n",
    "    if key in dict2:\n",
    "        values.append(dict2[key])\n",
    "    if len(values) > 1:\n",
    "        merged_dict[key] = values\n",
    "    else:\n",
    "        merged_dict[key] = values[0]\n",
    "print(merged_dict)\n"
   ]
  },
  {
   "cell_type": "code",
   "execution_count": null,
   "id": "ae8ebb6f-5a77-48d7-9cdb-b70ac51a4bef",
   "metadata": {},
   "outputs": [],
   "source": [
    "## Q50: Print keys with maximum and minimum values.\n",
    "values = {\"x\": 12, \"y\": 25, \"z\": 5}\n",
    "max_key = max(values, key=lambda k: values[k])\n",
    "min_key = min(values, key=lambda k: values[k])\n",
    "print(\"Max key:\", max_key)\n",
    "print(\"Min key:\", min_key)"
   ]
  },
  {
   "cell_type": "code",
   "execution_count": null,
   "id": "31bcce86-fc89-435d-b512-14cd1c3685ab",
   "metadata": {},
   "outputs": [],
   "source": [
    "## Q51: Convert list of tuples into a dictionary with list values for duplicate keys.\n",
    "data = [(\"a\", 1), (\"b\", 2), (\"a\", 3)]\n",
    "result = {}\n",
    "for key, value in data:\n",
    "    if key not in result:\n",
    "        result[key] = []\n",
    "    result[key].append(value)\n",
    "print(result)"
   ]
  },
  {
   "cell_type": "code",
   "execution_count": null,
   "id": "a4330c00-ff5a-40a6-adbc-a0bf5cdeb099",
   "metadata": {},
   "outputs": [],
   "source": [
    "## Q52: Count occurrences of each character in a string and print the three most common characters.\n",
    "from collections import Counter  # didnt talk about this in class\n",
    "s = \"aabbccddeeffggghhiijj\"\n",
    "char_counts = Counter(s)\n",
    "most_common_chars = char_counts.most_common(3)\n",
    "print(most_common_chars)\n",
    "\n",
    "# solution 2\n",
    "s = \"aabbccddeeffggghhiijj\"\n",
    "char_counts = {}\n",
    "\n",
    "# Count occurrences of each character\n",
    "for char in s:\n",
    "    if char in char_counts:\n",
    "        char_counts[char] += 1\n",
    "    else:\n",
    "        char_counts[char] = 1\n",
    "\n",
    "# Sort characters by count in descending order and get the top 3\n",
    "most_common_chars = sorted(char_counts.items(), key=lambda x: x[1], reverse=True)[:3]\n",
    "print(most_common_chars)\n"
   ]
  },
  {
   "cell_type": "code",
   "execution_count": null,
   "id": "f31cd914-a514-4a61-8fb5-73dbb3c128ed",
   "metadata": {},
   "outputs": [],
   "source": [
    "## Q53: Print the word that appears the most times from the given dictionary.\n",
    "words = {\"apple\": 5, \"banana\": 2, \"cherry\": 8}\n",
    "most_common_word = max(words, key=lambda k: words[k])\n",
    "print(most_common_word)"
   ]
  },
  {
   "cell_type": "code",
   "execution_count": null,
   "id": "e1589172-dcf3-40fe-8568-9747ee21fe9e",
   "metadata": {},
   "outputs": [],
   "source": [
    "## Q54: Create a function that converts an amount from USD to a specified currency using a conversion dictionary.\n",
    "conversion = {\"USD\": 1, \"EUR\": 0.85, \"JPY\": 110}\n",
    "def convert_from_usd(amount, currency):\n",
    "    if currency in conversion:\n",
    "        return amount * conversion[currency]\n",
    "    else:\n",
    "        return \"Currency not available\"\n",
    "\n",
    "print(convert_from_usd(100, \"EUR\"))"
   ]
  },
  {
   "cell_type": "code",
   "execution_count": null,
   "id": "45a6db9d-03f1-43c0-a046-e212ed1fedbd",
   "metadata": {},
   "outputs": [],
   "source": [
    "## Q55: Print all colors whose hexadecimal code contains \"00\" from the given dictionary.\n",
    "colors = {\"red\": \"#FF0000\", \"green\": \"#008000\", \"blue\": \"#0000FF\"}\n",
    "for color, hex_code in colors.items():\n",
    "    if \"00\" in hex_code:\n",
    "        print(color)"
   ]
  },
  {
   "cell_type": "code",
   "execution_count": null,
   "id": "9862c54e-5edc-4547-ab5b-ac52afe21b71",
   "metadata": {},
   "outputs": [],
   "source": [
    "## Q56: Update votes by adding a vote for \"Bob\" and removing one from \"Alice\", then print the updated dictionary.\n",
    "votes = {\"Alice\": 3, \"Bob\": 4, \"Charlie\": 2}\n",
    "votes[\"Bob\"] += 1\n",
    "votes[\"Alice\"] -= 1\n",
    "print(votes)"
   ]
  },
  {
   "cell_type": "code",
   "execution_count": null,
   "id": "18ed2b1a-f32a-487d-9e40-04349835e8f4",
   "metadata": {},
   "outputs": [],
   "source": [
    "## Q57: Calculate the average grade for each student across all subjects in a nested dictionary.\n",
    "school = {\"John\": {\"Math\": 90, \"History\": 85}, \"Anna\": {\"Math\": 80, \"History\": 92}}\n",
    "for student, subjects in school.items():\n",
    "    avg_grade = sum(subjects.values()) / len(subjects)\n",
    "    print(f\"{student}: {avg_grade}\")"
   ]
  },
  {
   "cell_type": "code",
   "execution_count": null,
   "id": "6e92646f-b63f-48f1-a45a-22c46d49857f",
   "metadata": {},
   "outputs": [],
   "source": [
    "## Q58: Find the student with the highest marks, add a new student, and increase marks by 5%.\n",
    "students = {\"Alice\": 85, \"Bob\": 92, \"Clara\": 87, \"Dave\": 75, \"Eva\": 90}\n",
    "\n",
    "# a) Find the student with the highest marks\n",
    "highest_student = max(students, key=lambda student: students[student])\n",
    "print(\"Highest student:\", highest_student)\n",
    "\n",
    "# b) Add a new student \"Frank\" with marks 88\n",
    "students[\"Frank\"] = 88\n",
    "print(\"After adding Frank:\", students)\n",
    "\n",
    "# c) Increase the marks of each student by 5%\n",
    "for student in students:\n",
    "    students[student] = students[student] * 1.05\n",
    "print(\"After 5% increase:\", students)\n",
    "\n"
   ]
  },
  {
   "cell_type": "code",
   "execution_count": null,
   "id": "98ef8134-1397-4d57-984d-918de6256102",
   "metadata": {},
   "outputs": [],
   "source": [
    "## Q59: Create a set with elements 1, 2, 3, 4, 5 and print it.\n",
    "my_set = {1, 2, 3, 4, 5}\n",
    "print(my_set)"
   ]
  },
  {
   "cell_type": "code",
   "execution_count": null,
   "id": "2be63ed4-9949-4ef0-b40e-f1f75e2d2197",
   "metadata": {},
   "outputs": [],
   "source": [
    "## Q60: Add the number 6 to the set {1, 2, 3, 4, 5} and print the updated set.\n",
    "my_set = {1, 2, 3, 4, 5}\n",
    "my_set.add(6)\n",
    "print(my_set)"
   ]
  },
  {
   "cell_type": "code",
   "execution_count": null,
   "id": "0cb150f1-f568-421d-a694-dd5982b1b8bf",
   "metadata": {},
   "outputs": [],
   "source": [
    "## Q61: Remove the number 3 from the set {1, 2, 3, 4, 5} and print the updated set.\n",
    "my_set = {1, 2, 3, 4, 5}\n",
    "my_set.remove(3)\n",
    "print(my_set)"
   ]
  },
  {
   "cell_type": "code",
   "execution_count": null,
   "id": "13f4c3fa-797f-4975-8b9b-6742d882531f",
   "metadata": {},
   "outputs": [],
   "source": [
    "## Q62: Check if the number 4 exists in the set {1, 2, 3, 4, 5} and print the result.\n",
    "my_set = {1, 2, 3, 4, 5}\n",
    "print(4 in my_set)"
   ]
  },
  {
   "cell_type": "code",
   "execution_count": null,
   "id": "0e837225-1e35-40d5-bac6-7a1ecc9a013a",
   "metadata": {},
   "outputs": [],
   "source": [
    "## Q63: Print the union of the sets {1, 2, 3} and {3, 4, 5}.\n",
    "set1 = {1, 2, 3}\n",
    "set2 = {3, 4, 5}\n",
    "union_set = set1 | set2\n",
    "print(union_set)"
   ]
  },
  {
   "cell_type": "code",
   "execution_count": null,
   "id": "7bcc775e-9643-4f0f-843a-4a44279a787e",
   "metadata": {},
   "outputs": [],
   "source": [
    "## Q64: Print the intersection of the sets {1, 2, 3} and {3, 4, 5}.\n",
    "set1 = {1, 2, 3}\n",
    "set2 = {3, 4, 5}\n",
    "intersection_set = set1 & set2\n",
    "print(intersection_set)"
   ]
  },
  {
   "cell_type": "code",
   "execution_count": null,
   "id": "d27ca7d8-8fd2-40cc-8799-322107c77d15",
   "metadata": {},
   "outputs": [],
   "source": [
    "## Q65: Check if the set {1, 2, 3} is a subset of the set {1, 2, 3, 4, 5} and print the result.\n",
    "set1 = {1, 2, 3}\n",
    "set2 = {1, 2, 3, 4, 5}\n",
    "print(set1.issubset(set2))"
   ]
  },
  {
   "cell_type": "code",
   "execution_count": null,
   "id": "33ba8856-b069-411b-bc3b-ef01c68d94d9",
   "metadata": {},
   "outputs": [],
   "source": [
    "## Q66: Check if the set {1, 2, 3, 4, 5} is a superset of the set {1, 2, 3} and print the result.\n",
    "set1 = {1, 2, 3, 4, 5}\n",
    "set2 = {1, 2, 3}\n",
    "print(set1.issuperset(set2))"
   ]
  },
  {
   "cell_type": "code",
   "execution_count": null,
   "id": "70c6a7aa-4fea-4316-afa7-3dc979826e8b",
   "metadata": {},
   "outputs": [],
   "source": [
    "## Q67: Print the symmetric difference between the sets {1, 2, 3, 4} and {3, 4, 5, 6}.\n",
    "set1 = {1, 2, 3, 4}\n",
    "set2 = {3, 4, 5, 6}\n",
    "symmetric_difference = set1 ^ set2\n",
    "print(symmetric_difference)"
   ]
  },
  {
   "cell_type": "code",
   "execution_count": null,
   "id": "81de23b6-4fe0-4ce2-82c4-04a1518997e7",
   "metadata": {},
   "outputs": [],
   "source": [
    "## Q68: Write a function to find union, intersection, and symmetric difference of two sets and return them as a tuple.\n",
    "def set_operations(set1, set2):\n",
    "    union = set1 | set2\n",
    "    intersection = set1 & set2\n",
    "    symmetric_difference = set1 ^ set2\n",
    "    return (union, intersection, symmetric_difference)\n",
    "\n",
    "set1 = {1, 2, 3, 4, 5, 6}\n",
    "set2 = {4, 5, 6, 7, 8, 9}\n",
    "print(set_operations(set1, set2))"
   ]
  },
  {
   "cell_type": "code",
   "execution_count": null,
   "id": "4f21243b-3aa3-4315-9b20-f729663d134f",
   "metadata": {},
   "outputs": [],
   "source": [
    "## Q69: Write a function `calculate_total` to calculate the total cost of pizzas ordered. Each pizza costs $10.\n",
    "def calculate_total(pizzas):\n",
    "    return pizzas * 10\n",
    "\n",
    "print(calculate_total(5))"
   ]
  },
  {
   "cell_type": "code",
   "execution_count": null,
   "id": "12480124-cae0-4b66-92fb-bbc03c83da86",
   "metadata": {},
   "outputs": [],
   "source": [
    "## Q70: Write a function `greet` that prints a greeting message with a given name.\n",
    "def greet(name):\n",
    "    print(f\"Hello, {name}!\")\n",
    "\n",
    "greet(\"Alex\")"
   ]
  },
  {
   "cell_type": "code",
   "execution_count": null,
   "id": "7ee11441-3875-441f-a020-335a53efa482",
   "metadata": {},
   "outputs": [],
   "source": [
    "## Q71: Write a function `sum_of_list` that returns the sum of numbers in a list.\n",
    "def sum_of_list(numbers):\n",
    "    return sum(numbers)\n",
    "\n",
    "print(sum_of_list([2, 4, 6, 8, 10]))"
   ]
  },
  {
   "cell_type": "code",
   "execution_count": null,
   "id": "e8b81b6a-2c29-40bd-b84e-7a16cf234452",
   "metadata": {},
   "outputs": [],
   "source": [
    "## Q72: Function to apply a 10% discount to a price.\n",
    "def apply_discount(price):\n",
    "    return price * 0.9\n",
    "\n",
    "print(apply_discount(50))"
   ]
  },
  {
   "cell_type": "code",
   "execution_count": null,
   "id": "c37f35fd-a02c-4d09-8fe0-6dd6873e657c",
   "metadata": {},
   "outputs": [],
   "source": [
    "## Q73: Function to calculate number of pizzas required for a party given guests and pizza slice assumptions.\n",
    "def party_planner(guests):\n",
    "    slices_per_person = 2\n",
    "    slices_per_pizza = 8\n",
    "    total_slices_needed = guests * slices_per_person\n",
    "    pizzas_needed = total_slices_needed // slices_per_pizza\n",
    "    if total_slices_needed % slices_per_pizza != 0:\n",
    "        pizzas_needed += 1\n",
    "    return pizzas_needed\n",
    "\n",
    "print(party_planner(16))"
   ]
  },
  {
   "cell_type": "code",
   "execution_count": null,
   "id": "ad372bd1-a7e2-49cd-a172-1d8bf047dd6d",
   "metadata": {},
   "outputs": [],
   "source": [
    "## Q74: Function to find a favorite color from a list of name-color pairs.\n",
    "def favorite_color(name, name_color_list):\n",
    "    for person, color in name_color_list:\n",
    "        if person == name:\n",
    "            return color\n",
    "    return \"Name not found\"\n",
    "\n",
    "print(favorite_color(\"Alice\", [('Bob', 'Blue'), ('Alice', 'Red'), ('Eve', 'Green')]))"
   ]
  },
  {
   "cell_type": "code",
   "execution_count": null,
   "id": "ab1e183e-c05a-4bcf-97c2-0ec522441195",
   "metadata": {},
   "outputs": [],
   "source": [
    "## Q75: Function to add a 5% tax to a price.\n",
    "def add_tax(price):\n",
    "    return price * 1.05\n",
    "\n",
    "print(add_tax(20))"
   ]
  },
  {
   "cell_type": "code",
   "execution_count": null,
   "id": "434c9c63-bb57-48b0-96ec-f4ae82f44182",
   "metadata": {},
   "outputs": [],
   "source": [
    "## Q76: Function to return a list of squares up to a given number n.\n",
    "def squared_numbers(n):\n",
    "    return [i ** 2 for i in range(1, n + 1)]\n",
    "\n",
    "print(squared_numbers(5))"
   ]
  },
  {
   "cell_type": "code",
   "execution_count": null,
   "id": "44d8d39c-a180-44e8-8dcb-f19d74e0d4b9",
   "metadata": {},
   "outputs": [],
   "source": [
    "## Q77: Function to check if a given date matches a friend's birthday.\n",
    "def is_birthday(date, friend_birthday=\"04-15\"):\n",
    "    return date == friend_birthday\n",
    "\n",
    "print(is_birthday(\"04-15\"))"
   ]
  },
  {
   "cell_type": "code",
   "execution_count": null,
   "id": "a7b78abc-7a01-4a1a-8d73-29c1422be699",
   "metadata": {},
   "outputs": [],
   "source": [
    "## Q78: Function to add \"Milk\" to a grocery list if not already present.\n",
    "def weekly_groceries(items):\n",
    "    if \"Milk\" not in items:\n",
    "        items.append(\"Milk\")\n",
    "    return items\n",
    "\n",
    "print(weekly_groceries(['Eggs', 'Bread', 'Butter']))"
   ]
  },
  {
   "cell_type": "code",
   "execution_count": null,
   "id": "84c3d396-20d7-4e46-963d-f7d5f725d7a5",
   "metadata": {},
   "outputs": [],
   "source": [
    "## Q79: Lambda function to return a greeting message.\n",
    "greet = lambda name: f\"Hello, {name}!\"\n",
    "print(greet(\"Alex\"))"
   ]
  },
  {
   "cell_type": "code",
   "execution_count": null,
   "id": "2aaafb71-c553-403c-98f8-9c7a8ab6ccd5",
   "metadata": {},
   "outputs": [],
   "source": [
    "## Q80: Lambda function to double a number.\n",
    "double = lambda x: x * 2\n",
    "print(double(5))"
   ]
  },
  {
   "cell_type": "code",
   "execution_count": null,
   "id": "cb5b51f8-c755-484a-a591-243f494361f6",
   "metadata": {},
   "outputs": [],
   "source": [
    "## Q81: Lambda function to check if a number is even.\n",
    "is_even = lambda x: x % 2 == 0\n",
    "print(is_even(6))"
   ]
  },
  {
   "cell_type": "code",
   "execution_count": null,
   "id": "33b95745-810c-4330-8bca-3eed52ad1bac",
   "metadata": {},
   "outputs": [],
   "source": [
    "## Q82: Function to recommend a random book from a given genre.\n",
    "import random\n",
    "def recommend_books(genre, books_dict):\n",
    "    if genre in books_dict:\n",
    "        return random.choice(books_dict[genre])\n",
    "    else:\n",
    "        return \"Genre not found\"\n",
    "\n",
    "books = {'Mystery': ['Book1', 'Book2'], 'Romance': ['Book3', 'Book4']}\n",
    "print(recommend_books('Mystery', books))"
   ]
  },
  {
   "cell_type": "code",
   "execution_count": null,
   "id": "ee8b0909-612c-409d-908b-e3d7b98338cb",
   "metadata": {},
   "outputs": [],
   "source": [
    "## Q83: Split expenses\n",
    "\n",
    "def split_expenses(expenses):\n",
    "    total = sum(expenses.values())\n",
    "    return total / 2\n",
    "print(split_expenses({'rent': 1000, 'utilities': 150, 'groceries': 200}))"
   ]
  },
  {
   "cell_type": "code",
   "execution_count": null,
   "id": "4805bf5e-03db-4a3f-9ef1-cd631be5b6e3",
   "metadata": {},
   "outputs": [],
   "source": [
    "## Q84: Set intersection function\n",
    "\n",
    "def common_elements(list1, list2):\n",
    "    return set(list1) & set(list2)  # intersection\n",
    "print(common_elements([1, 2, 3, 4, 5], [4, 5, 6, 7, 8]))"
   ]
  },
  {
   "cell_type": "code",
   "execution_count": null,
   "id": "5637e153-767c-4471-baa0-fa6e01fcdfa1",
   "metadata": {},
   "outputs": [],
   "source": [
    "## Q85: Compute average grades\n",
    "def compute_average(grades):\n",
    "    return {student: sum(scores) / len(scores) for student, scores in grades.items()}\n",
    "print(compute_average({'John': [85, 90, 78], 'Jane': [90, 88, 80]}))"
   ]
  },
  {
   "cell_type": "code",
   "execution_count": null,
   "id": "27a1ac9a-b0bd-4c94-98d4-02c1a0fba1b6",
   "metadata": {},
   "outputs": [],
   "source": [
    "## Q86: Password strength checker\n",
    "# Solution 1: very long line and difficult\n",
    "def password_strength(password):\n",
    "    return (len(password) >= 8 and any(c.islower() for c in password) and any(c.isupper() for c in password) and any(c.isdigit() for c in password) and any(c in '!@#$%^&*' for c in password))\n",
    "print(password_strength('P@ssw0rd123'))\n",
    "\n",
    "# Solution 2: much simpler to understand\n",
    "# checks every character and if all criteria is satisfied then, it provides an answer\n",
    "\n",
    "\n",
    "def password_strength(password):\n",
    "    has_min_length = len(password) >= 8\n",
    "    has_lower = False\n",
    "    has_upper = False\n",
    "    has_digit = False\n",
    "    has_special = False\n",
    "    \n",
    "    for c in password:\n",
    "        if c.islower():\n",
    "            has_lower = True\n",
    "        if c.isupper():\n",
    "            has_upper = True\n",
    "        if c.isdigit():\n",
    "            has_digit = True\n",
    "        if c in '!@#$%^&*':\n",
    "            has_special = True\n",
    "    \n",
    "    return has_min_length and has_lower and has_upper and has_digit and has_special\n",
    "\n",
    "print(password_strength('P@ssw0rd123'))\n",
    "\n",
    "# Solution 3: Use any to simplify things a bit\n",
    "\n",
    "def password_strength(password):\n",
    "    has_min_length = len(password) >= 8\n",
    "    has_lower = any(c.islower() for c in password)\n",
    "    has_upper = any(c.isupper() for c in password)\n",
    "    has_digit = any(c.isdigit() for c in password)\n",
    "    has_special = any(c in '!@#$%^&*' for c in password)\n",
    "    \n",
    "    return has_min_length and has_lower and has_upper and has_digit and has_special\n",
    "\n",
    "print(password_strength('P@ssw0rd123'))"
   ]
  },
  {
   "cell_type": "code",
   "execution_count": null,
   "id": "93e9c8e7-6b9a-4ae8-81f6-8e068a21735c",
   "metadata": {},
   "outputs": [],
   "source": [
    "## Q87: Sort by last name using lambda\n",
    "names = ['Alice Brown', 'Charlie Adams', 'Bob Clark']\n",
    "names.sort(key=lambda name: name.split()[-1])\n",
    "print(names)"
   ]
  },
  {
   "cell_type": "code",
   "execution_count": null,
   "id": "e1912840-01ae-42bf-8db1-0744191f390e",
   "metadata": {},
   "outputs": [],
   "source": [
    "## Q88: Price calculator with tax\n",
    "price_calculator = lambda price, tax_rate: price * (1 + tax_rate)\n",
    "print(price_calculator(100, 0.05))"
   ]
  },
  {
   "cell_type": "code",
   "execution_count": null,
   "id": "3b64dd78-913e-4640-ac62-90905e94a650",
   "metadata": {},
   "outputs": [],
   "source": [
    "## Q89: Filter by age for 21+ party\n",
    "friends = {'Alice': 22, 'Bob': 19, 'Charlie': 23}\n",
    "adults = [name for name, age in friends.items() if age >= 21]\n",
    "print(adults)"
   ]
  },
  {
   "cell_type": "code",
   "execution_count": null,
   "id": "f8bc1976-ce99-42b8-a9ae-54d7b9447169",
   "metadata": {},
   "outputs": [],
   "source": [
    "## Q90: Find mode in list\n",
    "# solutiuon one using collection module of standard library\n",
    "def find_mode(numbers):\n",
    "    from collections import Counter\n",
    "    counts = Counter(numbers)\n",
    "    max_count = max(counts.values())\n",
    "    return {num for num, count in counts.items() if count == max_count}\n",
    "print(find_mode([1, 2, 3, 2, 4, 4, 5]))\n",
    "\n",
    "# solution 2 without collection\n",
    "def find_mode(numbers):\n",
    "    counts = {}\n",
    "    for num in numbers:\n",
    "        if num in counts:\n",
    "            counts[num] += 1\n",
    "        else:\n",
    "            counts[num] = 1\n",
    "    \n",
    "    max_count = max(counts.values())\n",
    "    return {num for num, count in counts.items() if count == max_count}\n",
    "\n",
    "print(find_mode([1, 2, 3, 2, 4, 4, 5]))"
   ]
  },
  {
   "cell_type": "code",
   "execution_count": null,
   "id": "9c83ce17-21a9-4825-a66c-d7deabaceddf",
   "metadata": {},
   "outputs": [],
   "source": [
    "## Q91: Count preferred shops\n",
    "\n",
    "# Solution 1: This very elegant solution was suggested by\n",
    "# Cheng-Zong Huang (BARM 2025). Thanks Cheng-Zong!\n",
    "def find_preferred_shops(dict_shops):\n",
    "    shops_sets = [shop for shop in dict_shops.values()]\n",
    "    shop_list = [shop for shop_set in shops_sets for shop in shop_set]\n",
    "    shop_dict = {shop_name : shop_list.count(shop_name) for shop_name in shop_list}\n",
    "    return shop_dict\n",
    "\n",
    "print(find_preferred_shops({'Alex': {'Walmart', 'Target'}, 'Jane': {'Walmart', \"Macy's\"}}))\n",
    "\n",
    "\n",
    "# Solution 2\n",
    "def find_preferred_shops(favorites):\n",
    "    from collections import Counter  # we didnt cover this in class; \n",
    "                                     # let me know if you have any questions\n",
    "    shop_count = Counter(shop for shops in favorites.values() for shop in shops)\n",
    "    return dict(shop_count)\n",
    "print(find_preferred_shops({'Alex': {'Walmart', 'Target'}, 'Jane': {'Walmart', \"Macy's\"}}))\n",
    "\n",
    "\n",
    "# Solution 3: simpler solution\n",
    "def find_preferred_shops(favorites):\n",
    "    shop_count = {}\n",
    "    for shops in favorites.values():\n",
    "        for shop in shops:\n",
    "            if shop in shop_count:\n",
    "                shop_count[shop] += 1\n",
    "            else:\n",
    "                shop_count[shop] = 1\n",
    "    return shop_count\n",
    "\n",
    "print(find_preferred_shops({'Alex': {'Walmart', 'Target'}, 'Jane': {'Walmart', \"Macy's\"}}))"
   ]
  },
  {
   "cell_type": "code",
   "execution_count": null,
   "id": "415af8fc-754d-4686-ae8a-82b0dec6a3e3",
   "metadata": {},
   "outputs": [],
   "source": [
    "## Q92: Bulk discount calculation\n",
    "def bulk_discount(prices):\n",
    "    if len(prices) > 10:\n",
    "        discount = 0.2\n",
    "    elif len(prices) > 5:\n",
    "        discount = 0.1\n",
    "    else:\n",
    "        discount = 0\n",
    "    return sum(prices) * (1 - discount)\n",
    "\n",
    "print(bulk_discount([10, 20, 30, 40, 50, 60, 70]))"
   ]
  },
  {
   "cell_type": "code",
   "execution_count": null,
   "id": "945e4330-1cb3-4ae8-a6b2-c0d48b6db77c",
   "metadata": {},
   "outputs": [],
   "source": [
    "## Q93: Find common interests\n",
    "def common_interests(person1, person2):\n",
    "    return person1 & person2  # intersection\n",
    "print(common_interests({'reading', 'hiking', 'cooking'}, {'cooking', 'traveling', 'reading'}))"
   ]
  },
  {
   "cell_type": "code",
   "execution_count": null,
   "id": "d106de8d-8df8-4fc6-993f-252fbd960992",
   "metadata": {},
   "outputs": [],
   "source": [
    "## Q94: Grade categories function\n",
    "def categorize_grades(grades):\n",
    "    categories = {'A': 0, 'B': 0, 'C': 0, 'D': 0, 'F': 0}\n",
    "    for grade in grades:\n",
    "        if grade >= 90: categories['A'] += 1\n",
    "        elif grade >= 80: categories['B'] += 1\n",
    "        elif grade >= 70: categories['C'] += 1\n",
    "        elif grade >= 60: categories['D'] += 1\n",
    "        else: categories['F'] += 1\n",
    "    return categories\n",
    "print(categorize_grades([85, 90, 78, 60, 72, 88, 95]))"
   ]
  },
  {
   "cell_type": "code",
   "execution_count": null,
   "id": "57f99362-b785-4f65-af9a-dcfb600aa575",
   "metadata": {},
   "outputs": [],
   "source": [
    "## Q95: Custom exponentiation lambda\n",
    "## Thanks to Hanting Fu, Cassie Liu, and several others for fixing the\n",
    "## issue with the solution.\n",
    "\n",
    "import math\n",
    "exponentiate = lambda base, exponent: math.pow(base, exponent)\n",
    "print(exponentiate(2, 3))"
   ]
  },
  {
   "cell_type": "code",
   "execution_count": null,
   "id": "00f03e38-0a7a-42aa-bfd3-0cac8b06d902",
   "metadata": {},
   "outputs": [],
   "source": [
    "## Q96: Employee salary increment\n",
    "salaries = {'Alice': 50000, 'Bob': 60000, 'Charlie': 55000}\n",
    "salaries = {name: salary * 1.1 for name, salary in salaries.items()}\n",
    "print(salaries)"
   ]
  },
  {
   "cell_type": "code",
   "execution_count": null,
   "id": "be14038d-6740-40ed-a979-980a0f016695",
   "metadata": {},
   "outputs": [],
   "source": [
    "## Q97: Extract domain from emails\n",
    "emails = ['naser@gmail.com', 'alex@yahoo.com', 'jane@jhu.edu']\n",
    "domains = [email.split('@')[1] for email in emails]\n",
    "print(domains)"
   ]
  },
  {
   "cell_type": "code",
   "execution_count": null,
   "id": "f557793a-081b-4b25-88bb-3f3a095df3de",
   "metadata": {},
   "outputs": [],
   "source": [
    "## Q98: Sort employees by name and salary\n",
    "employees = [('John', 50000), ('Jane', 75000), ('Doe', 65000), ('Alice', 60000)]\n",
    "employees.sort(key=lambda x: x[0])\n",
    "print('Sorted by name:', employees)\n",
    "employees.sort(key=lambda x: x[1], reverse=True)\n",
    "print('Sorted by salary:', employees)"
   ]
  }
 ],
 "metadata": {
  "kernelspec": {
   "display_name": "Python 3 (ipykernel)",
   "language": "python",
   "name": "python3"
  },
  "language_info": {
   "codemirror_mode": {
    "name": "ipython",
    "version": 3
   },
   "file_extension": ".py",
   "mimetype": "text/x-python",
   "name": "python",
   "nbconvert_exporter": "python",
   "pygments_lexer": "ipython3",
   "version": "3.12.4"
  }
 },
 "nbformat": 4,
 "nbformat_minor": 5
}
